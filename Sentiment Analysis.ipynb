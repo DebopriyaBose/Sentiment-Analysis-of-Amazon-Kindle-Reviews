{
  "cells": [
    {
      "cell_type": "markdown",
      "metadata": {
        "id": "iKwML52-CGnr"
      },
      "source": [
        "# **Sentiment Analysis of Book reviews from Amazon Kindle Store category Using Deep Learning**"
      ]
    },
    {
      "cell_type": "markdown",
      "source": [
        "### This dataset is a small subset of the unprocessed dataset of Amazon Kindle Reviews and it is obtained from Amazon product data, Julian McAuley, UCSD website. http://jmcauley.ucsd.edu/data/amazon/is. The dataset contains 12000 rows of review text and its corresponding metadata.\n",
        "### The dataset has 11 features/columns, which are:\n",
        "#### -asin           - ID of the product, like B000FA64PK\n",
        "#### -helpful        - helpfulness rating of the review - example: 2/3.\n",
        "#### -overall        - rating of the product.\n",
        "#### -reviewText     - text of the review (heading).\n",
        "#### -reviewTime     - time of the review (raw).\n",
        "#### -reviewerID     - ID of the reviewer, like A3SPTOKDG7WBLN\n",
        "#### -reviewerName   - name of the reviewer.\n",
        "#### -summary        - summary of the review (description).\n",
        "#### -unixReviewTime - unix timestamp.\n",
        "#### Apart from these features, there are 2 more columns in this dataset, which are unnamed/insignificant."
      ],
      "metadata": {
        "id": "pFqJyxHLNMTG"
      }
    },
    {
      "cell_type": "code",
      "execution_count": null,
      "metadata": {
        "id": "MeleWlkSLyl_"
      },
      "outputs": [],
      "source": [
        "import numpy as np\n",
        "import pandas as pd\n",
        "import matplotlib.pyplot as plt\n",
        "import seaborn as sns\n",
        "import tensorflow as tf\n",
        "import keras\n",
        "from tensorflow.keras.preprocessing.text import Tokenizer\n",
        "from tensorflow.keras.preprocessing.sequence import pad_sequences\n",
        "from tensorflow.keras.models import Sequential\n",
        "from tensorflow.keras.layers import LSTM,Dense, Dropout, SpatialDropout1D\n",
        "from tensorflow.keras.layers import Embedding"
      ]
    },
    {
      "cell_type": "code",
      "execution_count": null,
      "metadata": {
        "id": "SYETk32tUo1T"
      },
      "outputs": [],
      "source": [
        "data = pd.read_csv(\"all_kindle_review .csv\")"
      ]
    },
    {
      "cell_type": "code",
      "execution_count": null,
      "metadata": {
        "colab": {
          "base_uri": "https://localhost:8080/",
          "height": 458
        },
        "id": "YXHEPNwiUtOp",
        "outputId": "abe57c6f-507d-401d-8f84-a60315665b54"
      },
      "outputs": [
        {
          "output_type": "execute_result",
          "data": {
            "text/plain": [
              "   Unnamed: 0.1  Unnamed: 0        asin  helpful  rating  \\\n",
              "0             0       11539  B0033UV8HI  [8, 10]       3   \n",
              "1             1        5957  B002HJV4DE   [1, 1]       5   \n",
              "2             2        9146  B002ZG96I4   [0, 0]       3   \n",
              "3             3        7038  B002QHWOEU   [1, 3]       3   \n",
              "4             4        1776  B001A06VJ8   [0, 1]       4   \n",
              "\n",
              "                                          reviewText   reviewTime  \\\n",
              "0  Jace Rankin may be short, but he's nothing to ...   09 2, 2010   \n",
              "1  Great short read.  I didn't want to put it dow...   10 8, 2013   \n",
              "2  I'll start by saying this is the first of four...  04 11, 2014   \n",
              "3  Aggie is Angela Lansbury who carries pocketboo...   07 5, 2014   \n",
              "4  I did not expect this type of book to be in li...  12 31, 2012   \n",
              "\n",
              "       reviewerID  reviewerName                   summary  unixReviewTime  \n",
              "0  A3HHXRELK8BHQG        Ridley  Entertaining But Average    1.283386e+09  \n",
              "1  A2RGNZ0TRF578I  Holly Butler   Terrific menage scenes!    1.381190e+09  \n",
              "2  A3S0H2HV6U1I7F       Merissa          Snapdragon Alley    1.397174e+09  \n",
              "3   AC4OQW3GZ919J    Cleargrace    very light murder cozy    1.404518e+09  \n",
              "4  A3C9V987IQHOQD      Rjostler                      Book    1.356912e+09  "
            ],
            "text/html": [
              "\n",
              "  <div id=\"df-564fee8f-56a9-4411-a182-8ba0bf3fa119\">\n",
              "    <div class=\"colab-df-container\">\n",
              "      <div>\n",
              "<style scoped>\n",
              "    .dataframe tbody tr th:only-of-type {\n",
              "        vertical-align: middle;\n",
              "    }\n",
              "\n",
              "    .dataframe tbody tr th {\n",
              "        vertical-align: top;\n",
              "    }\n",
              "\n",
              "    .dataframe thead th {\n",
              "        text-align: right;\n",
              "    }\n",
              "</style>\n",
              "<table border=\"1\" class=\"dataframe\">\n",
              "  <thead>\n",
              "    <tr style=\"text-align: right;\">\n",
              "      <th></th>\n",
              "      <th>Unnamed: 0.1</th>\n",
              "      <th>Unnamed: 0</th>\n",
              "      <th>asin</th>\n",
              "      <th>helpful</th>\n",
              "      <th>rating</th>\n",
              "      <th>reviewText</th>\n",
              "      <th>reviewTime</th>\n",
              "      <th>reviewerID</th>\n",
              "      <th>reviewerName</th>\n",
              "      <th>summary</th>\n",
              "      <th>unixReviewTime</th>\n",
              "    </tr>\n",
              "  </thead>\n",
              "  <tbody>\n",
              "    <tr>\n",
              "      <th>0</th>\n",
              "      <td>0</td>\n",
              "      <td>11539</td>\n",
              "      <td>B0033UV8HI</td>\n",
              "      <td>[8, 10]</td>\n",
              "      <td>3</td>\n",
              "      <td>Jace Rankin may be short, but he's nothing to ...</td>\n",
              "      <td>09 2, 2010</td>\n",
              "      <td>A3HHXRELK8BHQG</td>\n",
              "      <td>Ridley</td>\n",
              "      <td>Entertaining But Average</td>\n",
              "      <td>1.283386e+09</td>\n",
              "    </tr>\n",
              "    <tr>\n",
              "      <th>1</th>\n",
              "      <td>1</td>\n",
              "      <td>5957</td>\n",
              "      <td>B002HJV4DE</td>\n",
              "      <td>[1, 1]</td>\n",
              "      <td>5</td>\n",
              "      <td>Great short read.  I didn't want to put it dow...</td>\n",
              "      <td>10 8, 2013</td>\n",
              "      <td>A2RGNZ0TRF578I</td>\n",
              "      <td>Holly Butler</td>\n",
              "      <td>Terrific menage scenes!</td>\n",
              "      <td>1.381190e+09</td>\n",
              "    </tr>\n",
              "    <tr>\n",
              "      <th>2</th>\n",
              "      <td>2</td>\n",
              "      <td>9146</td>\n",
              "      <td>B002ZG96I4</td>\n",
              "      <td>[0, 0]</td>\n",
              "      <td>3</td>\n",
              "      <td>I'll start by saying this is the first of four...</td>\n",
              "      <td>04 11, 2014</td>\n",
              "      <td>A3S0H2HV6U1I7F</td>\n",
              "      <td>Merissa</td>\n",
              "      <td>Snapdragon Alley</td>\n",
              "      <td>1.397174e+09</td>\n",
              "    </tr>\n",
              "    <tr>\n",
              "      <th>3</th>\n",
              "      <td>3</td>\n",
              "      <td>7038</td>\n",
              "      <td>B002QHWOEU</td>\n",
              "      <td>[1, 3]</td>\n",
              "      <td>3</td>\n",
              "      <td>Aggie is Angela Lansbury who carries pocketboo...</td>\n",
              "      <td>07 5, 2014</td>\n",
              "      <td>AC4OQW3GZ919J</td>\n",
              "      <td>Cleargrace</td>\n",
              "      <td>very light murder cozy</td>\n",
              "      <td>1.404518e+09</td>\n",
              "    </tr>\n",
              "    <tr>\n",
              "      <th>4</th>\n",
              "      <td>4</td>\n",
              "      <td>1776</td>\n",
              "      <td>B001A06VJ8</td>\n",
              "      <td>[0, 1]</td>\n",
              "      <td>4</td>\n",
              "      <td>I did not expect this type of book to be in li...</td>\n",
              "      <td>12 31, 2012</td>\n",
              "      <td>A3C9V987IQHOQD</td>\n",
              "      <td>Rjostler</td>\n",
              "      <td>Book</td>\n",
              "      <td>1.356912e+09</td>\n",
              "    </tr>\n",
              "  </tbody>\n",
              "</table>\n",
              "</div>\n",
              "      <button class=\"colab-df-convert\" onclick=\"convertToInteractive('df-564fee8f-56a9-4411-a182-8ba0bf3fa119')\"\n",
              "              title=\"Convert this dataframe to an interactive table.\"\n",
              "              style=\"display:none;\">\n",
              "        \n",
              "  <svg xmlns=\"http://www.w3.org/2000/svg\" height=\"24px\"viewBox=\"0 0 24 24\"\n",
              "       width=\"24px\">\n",
              "    <path d=\"M0 0h24v24H0V0z\" fill=\"none\"/>\n",
              "    <path d=\"M18.56 5.44l.94 2.06.94-2.06 2.06-.94-2.06-.94-.94-2.06-.94 2.06-2.06.94zm-11 1L8.5 8.5l.94-2.06 2.06-.94-2.06-.94L8.5 2.5l-.94 2.06-2.06.94zm10 10l.94 2.06.94-2.06 2.06-.94-2.06-.94-.94-2.06-.94 2.06-2.06.94z\"/><path d=\"M17.41 7.96l-1.37-1.37c-.4-.4-.92-.59-1.43-.59-.52 0-1.04.2-1.43.59L10.3 9.45l-7.72 7.72c-.78.78-.78 2.05 0 2.83L4 21.41c.39.39.9.59 1.41.59.51 0 1.02-.2 1.41-.59l7.78-7.78 2.81-2.81c.8-.78.8-2.07 0-2.86zM5.41 20L4 18.59l7.72-7.72 1.47 1.35L5.41 20z\"/>\n",
              "  </svg>\n",
              "      </button>\n",
              "      \n",
              "  <style>\n",
              "    .colab-df-container {\n",
              "      display:flex;\n",
              "      flex-wrap:wrap;\n",
              "      gap: 12px;\n",
              "    }\n",
              "\n",
              "    .colab-df-convert {\n",
              "      background-color: #E8F0FE;\n",
              "      border: none;\n",
              "      border-radius: 50%;\n",
              "      cursor: pointer;\n",
              "      display: none;\n",
              "      fill: #1967D2;\n",
              "      height: 32px;\n",
              "      padding: 0 0 0 0;\n",
              "      width: 32px;\n",
              "    }\n",
              "\n",
              "    .colab-df-convert:hover {\n",
              "      background-color: #E2EBFA;\n",
              "      box-shadow: 0px 1px 2px rgba(60, 64, 67, 0.3), 0px 1px 3px 1px rgba(60, 64, 67, 0.15);\n",
              "      fill: #174EA6;\n",
              "    }\n",
              "\n",
              "    [theme=dark] .colab-df-convert {\n",
              "      background-color: #3B4455;\n",
              "      fill: #D2E3FC;\n",
              "    }\n",
              "\n",
              "    [theme=dark] .colab-df-convert:hover {\n",
              "      background-color: #434B5C;\n",
              "      box-shadow: 0px 1px 3px 1px rgba(0, 0, 0, 0.15);\n",
              "      filter: drop-shadow(0px 1px 2px rgba(0, 0, 0, 0.3));\n",
              "      fill: #FFFFFF;\n",
              "    }\n",
              "  </style>\n",
              "\n",
              "      <script>\n",
              "        const buttonEl =\n",
              "          document.querySelector('#df-564fee8f-56a9-4411-a182-8ba0bf3fa119 button.colab-df-convert');\n",
              "        buttonEl.style.display =\n",
              "          google.colab.kernel.accessAllowed ? 'block' : 'none';\n",
              "\n",
              "        async function convertToInteractive(key) {\n",
              "          const element = document.querySelector('#df-564fee8f-56a9-4411-a182-8ba0bf3fa119');\n",
              "          const dataTable =\n",
              "            await google.colab.kernel.invokeFunction('convertToInteractive',\n",
              "                                                     [key], {});\n",
              "          if (!dataTable) return;\n",
              "\n",
              "          const docLinkHtml = 'Like what you see? Visit the ' +\n",
              "            '<a target=\"_blank\" href=https://colab.research.google.com/notebooks/data_table.ipynb>data table notebook</a>'\n",
              "            + ' to learn more about interactive tables.';\n",
              "          element.innerHTML = '';\n",
              "          dataTable['output_type'] = 'display_data';\n",
              "          await google.colab.output.renderOutput(dataTable, element);\n",
              "          const docLink = document.createElement('div');\n",
              "          docLink.innerHTML = docLinkHtml;\n",
              "          element.appendChild(docLink);\n",
              "        }\n",
              "      </script>\n",
              "    </div>\n",
              "  </div>\n",
              "  "
            ]
          },
          "metadata": {},
          "execution_count": 3
        }
      ],
      "source": [
        "data.head()"
      ]
    },
    {
      "cell_type": "code",
      "execution_count": null,
      "metadata": {
        "colab": {
          "base_uri": "https://localhost:8080/"
        },
        "id": "oPUc024PWMu8",
        "outputId": "784f659b-8df1-49f3-daf6-c27bacf2b459"
      },
      "outputs": [
        {
          "output_type": "stream",
          "name": "stdout",
          "text": [
            "<class 'pandas.core.frame.DataFrame'>\n",
            "RangeIndex: 2990 entries, 0 to 2989\n",
            "Data columns (total 11 columns):\n",
            " #   Column          Non-Null Count  Dtype  \n",
            "---  ------          --------------  -----  \n",
            " 0   Unnamed: 0.1    2990 non-null   int64  \n",
            " 1   Unnamed: 0      2990 non-null   int64  \n",
            " 2   asin            2990 non-null   object \n",
            " 3   helpful         2990 non-null   object \n",
            " 4   rating          2990 non-null   int64  \n",
            " 5   reviewText      2990 non-null   object \n",
            " 6   reviewTime      2989 non-null   object \n",
            " 7   reviewerID      2989 non-null   object \n",
            " 8   reviewerName    2980 non-null   object \n",
            " 9   summary         2989 non-null   object \n",
            " 10  unixReviewTime  2989 non-null   float64\n",
            "dtypes: float64(1), int64(3), object(7)\n",
            "memory usage: 257.1+ KB\n"
          ]
        }
      ],
      "source": [
        "data.info()"
      ]
    },
    {
      "cell_type": "markdown",
      "metadata": {
        "id": "XQGYQSf0Db8m"
      },
      "source": [
        "## **Data Cleaning**"
      ]
    },
    {
      "cell_type": "code",
      "execution_count": null,
      "metadata": {
        "id": "SVRDNO_oVDd4"
      },
      "outputs": [],
      "source": [
        "data.drop(['Unnamed: 0', 'Unnamed: 0.1','asin','helpful','reviewTime','reviewerID','reviewerName','summary','unixReviewTime'], axis = 1, inplace = True)"
      ]
    },
    {
      "cell_type": "markdown",
      "source": [
        "### For performing sentiment analysis, we mainly need the 'rating' and the 'reviewText' column. Thus, we are dropping all the other columns from our dataset over here."
      ],
      "metadata": {
        "id": "jUggQTv4bBXI"
      }
    },
    {
      "cell_type": "code",
      "execution_count": null,
      "metadata": {
        "colab": {
          "base_uri": "https://localhost:8080/",
          "height": 206
        },
        "id": "g3FY6-oVan7-",
        "outputId": "bbb8f243-f065-4585-9fbc-4364c9a0e23d"
      },
      "outputs": [
        {
          "output_type": "execute_result",
          "data": {
            "text/plain": [
              "   rating                                         reviewText\n",
              "0       3  Jace Rankin may be short, but he's nothing to ...\n",
              "1       5  Great short read.  I didn't want to put it dow...\n",
              "2       3  I'll start by saying this is the first of four...\n",
              "3       3  Aggie is Angela Lansbury who carries pocketboo...\n",
              "4       4  I did not expect this type of book to be in li..."
            ],
            "text/html": [
              "\n",
              "  <div id=\"df-5efebefa-d546-4d95-9c33-45a5a47d59dc\">\n",
              "    <div class=\"colab-df-container\">\n",
              "      <div>\n",
              "<style scoped>\n",
              "    .dataframe tbody tr th:only-of-type {\n",
              "        vertical-align: middle;\n",
              "    }\n",
              "\n",
              "    .dataframe tbody tr th {\n",
              "        vertical-align: top;\n",
              "    }\n",
              "\n",
              "    .dataframe thead th {\n",
              "        text-align: right;\n",
              "    }\n",
              "</style>\n",
              "<table border=\"1\" class=\"dataframe\">\n",
              "  <thead>\n",
              "    <tr style=\"text-align: right;\">\n",
              "      <th></th>\n",
              "      <th>rating</th>\n",
              "      <th>reviewText</th>\n",
              "    </tr>\n",
              "  </thead>\n",
              "  <tbody>\n",
              "    <tr>\n",
              "      <th>0</th>\n",
              "      <td>3</td>\n",
              "      <td>Jace Rankin may be short, but he's nothing to ...</td>\n",
              "    </tr>\n",
              "    <tr>\n",
              "      <th>1</th>\n",
              "      <td>5</td>\n",
              "      <td>Great short read.  I didn't want to put it dow...</td>\n",
              "    </tr>\n",
              "    <tr>\n",
              "      <th>2</th>\n",
              "      <td>3</td>\n",
              "      <td>I'll start by saying this is the first of four...</td>\n",
              "    </tr>\n",
              "    <tr>\n",
              "      <th>3</th>\n",
              "      <td>3</td>\n",
              "      <td>Aggie is Angela Lansbury who carries pocketboo...</td>\n",
              "    </tr>\n",
              "    <tr>\n",
              "      <th>4</th>\n",
              "      <td>4</td>\n",
              "      <td>I did not expect this type of book to be in li...</td>\n",
              "    </tr>\n",
              "  </tbody>\n",
              "</table>\n",
              "</div>\n",
              "      <button class=\"colab-df-convert\" onclick=\"convertToInteractive('df-5efebefa-d546-4d95-9c33-45a5a47d59dc')\"\n",
              "              title=\"Convert this dataframe to an interactive table.\"\n",
              "              style=\"display:none;\">\n",
              "        \n",
              "  <svg xmlns=\"http://www.w3.org/2000/svg\" height=\"24px\"viewBox=\"0 0 24 24\"\n",
              "       width=\"24px\">\n",
              "    <path d=\"M0 0h24v24H0V0z\" fill=\"none\"/>\n",
              "    <path d=\"M18.56 5.44l.94 2.06.94-2.06 2.06-.94-2.06-.94-.94-2.06-.94 2.06-2.06.94zm-11 1L8.5 8.5l.94-2.06 2.06-.94-2.06-.94L8.5 2.5l-.94 2.06-2.06.94zm10 10l.94 2.06.94-2.06 2.06-.94-2.06-.94-.94-2.06-.94 2.06-2.06.94z\"/><path d=\"M17.41 7.96l-1.37-1.37c-.4-.4-.92-.59-1.43-.59-.52 0-1.04.2-1.43.59L10.3 9.45l-7.72 7.72c-.78.78-.78 2.05 0 2.83L4 21.41c.39.39.9.59 1.41.59.51 0 1.02-.2 1.41-.59l7.78-7.78 2.81-2.81c.8-.78.8-2.07 0-2.86zM5.41 20L4 18.59l7.72-7.72 1.47 1.35L5.41 20z\"/>\n",
              "  </svg>\n",
              "      </button>\n",
              "      \n",
              "  <style>\n",
              "    .colab-df-container {\n",
              "      display:flex;\n",
              "      flex-wrap:wrap;\n",
              "      gap: 12px;\n",
              "    }\n",
              "\n",
              "    .colab-df-convert {\n",
              "      background-color: #E8F0FE;\n",
              "      border: none;\n",
              "      border-radius: 50%;\n",
              "      cursor: pointer;\n",
              "      display: none;\n",
              "      fill: #1967D2;\n",
              "      height: 32px;\n",
              "      padding: 0 0 0 0;\n",
              "      width: 32px;\n",
              "    }\n",
              "\n",
              "    .colab-df-convert:hover {\n",
              "      background-color: #E2EBFA;\n",
              "      box-shadow: 0px 1px 2px rgba(60, 64, 67, 0.3), 0px 1px 3px 1px rgba(60, 64, 67, 0.15);\n",
              "      fill: #174EA6;\n",
              "    }\n",
              "\n",
              "    [theme=dark] .colab-df-convert {\n",
              "      background-color: #3B4455;\n",
              "      fill: #D2E3FC;\n",
              "    }\n",
              "\n",
              "    [theme=dark] .colab-df-convert:hover {\n",
              "      background-color: #434B5C;\n",
              "      box-shadow: 0px 1px 3px 1px rgba(0, 0, 0, 0.15);\n",
              "      filter: drop-shadow(0px 1px 2px rgba(0, 0, 0, 0.3));\n",
              "      fill: #FFFFFF;\n",
              "    }\n",
              "  </style>\n",
              "\n",
              "      <script>\n",
              "        const buttonEl =\n",
              "          document.querySelector('#df-5efebefa-d546-4d95-9c33-45a5a47d59dc button.colab-df-convert');\n",
              "        buttonEl.style.display =\n",
              "          google.colab.kernel.accessAllowed ? 'block' : 'none';\n",
              "\n",
              "        async function convertToInteractive(key) {\n",
              "          const element = document.querySelector('#df-5efebefa-d546-4d95-9c33-45a5a47d59dc');\n",
              "          const dataTable =\n",
              "            await google.colab.kernel.invokeFunction('convertToInteractive',\n",
              "                                                     [key], {});\n",
              "          if (!dataTable) return;\n",
              "\n",
              "          const docLinkHtml = 'Like what you see? Visit the ' +\n",
              "            '<a target=\"_blank\" href=https://colab.research.google.com/notebooks/data_table.ipynb>data table notebook</a>'\n",
              "            + ' to learn more about interactive tables.';\n",
              "          element.innerHTML = '';\n",
              "          dataTable['output_type'] = 'display_data';\n",
              "          await google.colab.output.renderOutput(dataTable, element);\n",
              "          const docLink = document.createElement('div');\n",
              "          docLink.innerHTML = docLinkHtml;\n",
              "          element.appendChild(docLink);\n",
              "        }\n",
              "      </script>\n",
              "    </div>\n",
              "  </div>\n",
              "  "
            ]
          },
          "metadata": {},
          "execution_count": 6
        }
      ],
      "source": [
        "data.head()"
      ]
    },
    {
      "cell_type": "code",
      "execution_count": null,
      "metadata": {
        "colab": {
          "base_uri": "https://localhost:8080/"
        },
        "id": "jaSXblhOVkDB",
        "outputId": "9169c341-6d32-433a-dc74-c6224bd5ee9e"
      },
      "outputs": [
        {
          "output_type": "execute_result",
          "data": {
            "text/plain": [
              "4    782\n",
              "5    753\n",
              "1    506\n",
              "3    477\n",
              "2    472\n",
              "Name: rating, dtype: int64"
            ]
          },
          "metadata": {},
          "execution_count": 7
        }
      ],
      "source": [
        "data.rating.value_counts()"
      ]
    },
    {
      "cell_type": "code",
      "execution_count": null,
      "metadata": {
        "id": "h2ipP5_9W5lE"
      },
      "outputs": [],
      "source": [
        "data.rating=data.rating.replace([1,2],0)\n",
        "data.rating=data.rating.replace([3],1)\n",
        "data.rating=data.rating.replace([4,5],2)"
      ]
    },
    {
      "cell_type": "markdown",
      "source": [
        "### Here, we are converting all the ratings of values 1,2 to Negative Review(Denoted as 0) , 3 to Neutral Review(Denoted as 1) and 4,5 to Positive Review(Denoted as 2)"
      ],
      "metadata": {
        "id": "skfVlEHFcTlE"
      }
    },
    {
      "cell_type": "code",
      "execution_count": null,
      "metadata": {
        "colab": {
          "base_uri": "https://localhost:8080/"
        },
        "id": "b-6STDTkXGBN",
        "outputId": "3b4b6bd4-641d-4280-95f4-78369a5a5684"
      },
      "outputs": [
        {
          "output_type": "execute_result",
          "data": {
            "text/plain": [
              "2    1535\n",
              "0     978\n",
              "1     477\n",
              "Name: rating, dtype: int64"
            ]
          },
          "metadata": {},
          "execution_count": 9
        }
      ],
      "source": [
        "data.rating.value_counts()"
      ]
    },
    {
      "cell_type": "code",
      "execution_count": null,
      "metadata": {
        "colab": {
          "base_uri": "https://localhost:8080/",
          "height": 469
        },
        "id": "tPSYEHFMXo5w",
        "outputId": "4d7bafe1-89ae-4d8e-9b97-c4858089c30e"
      },
      "outputs": [
        {
          "output_type": "execute_result",
          "data": {
            "text/plain": [
              "<Axes: xlabel='rating', ylabel='count'>"
            ]
          },
          "metadata": {},
          "execution_count": 10
        },
        {
          "output_type": "display_data",
          "data": {
            "text/plain": [
              "<Figure size 640x480 with 1 Axes>"
            ],
            "image/png": "[encoded data removed]"
          },
          "metadata": {}
        }
      ],
      "source": [
        "sns.countplot(x=data[\"rating\"])"
      ]
    },
    {
      "cell_type": "code",
      "execution_count": null,
      "metadata": {
        "colab": {
          "base_uri": "https://localhost:8080/",
          "height": 423
        },
        "id": "qXdAycm-queC",
        "outputId": "a9d94227-a1cc-4429-cd27-e35b6555fb60"
      },
      "outputs": [
        {
          "output_type": "execute_result",
          "data": {
            "text/plain": [
              "      rating                                         reviewText\n",
              "0          1  Jace Rankin may be short, but he's nothing to ...\n",
              "1          2  Great short read.  I didn't want to put it dow...\n",
              "2          1  I'll start by saying this is the first of four...\n",
              "3          1  Aggie is Angela Lansbury who carries pocketboo...\n",
              "4          2  I did not expect this type of book to be in li...\n",
              "...      ...                                                ...\n",
              "2985       2  4.5 FeathersWolf FlightReviewed by Francesca a...\n",
              "2986       2  I liked that this book had a few new ideas com...\n",
              "2987       2  I ABSOLUTELY LOVED THIS STORY!!! The author di...\n",
              "2988       0  This is nothing but smut. I realize that eroti...\n",
              "2989       2                                                  T\n",
              "\n",
              "[2990 rows x 2 columns]"
            ],
            "text/html": [
              "\n",
              "  <div id=\"df-129534e5-fe22-4709-928e-0193228db4b4\">\n",
              "    <div class=\"colab-df-container\">\n",
              "      <div>\n",
              "<style scoped>\n",
              "    .dataframe tbody tr th:only-of-type {\n",
              "        vertical-align: middle;\n",
              "    }\n",
              "\n",
              "    .dataframe tbody tr th {\n",
              "        vertical-align: top;\n",
              "    }\n",
              "\n",
              "    .dataframe thead th {\n",
              "        text-align: right;\n",
              "    }\n",
              "</style>\n",
              "<table border=\"1\" class=\"dataframe\">\n",
              "  <thead>\n",
              "    <tr style=\"text-align: right;\">\n",
              "      <th></th>\n",
              "      <th>rating</th>\n",
              "      <th>reviewText</th>\n",
              "    </tr>\n",
              "  </thead>\n",
              "  <tbody>\n",
              "    <tr>\n",
              "      <th>0</th>\n",
              "      <td>1</td>\n",
              "      <td>Jace Rankin may be short, but he's nothing to ...</td>\n",
              "    </tr>\n",
              "    <tr>\n",
              "      <th>1</th>\n",
              "      <td>2</td>\n",
              "      <td>Great short read.  I didn't want to put it dow...</td>\n",
              "    </tr>\n",
              "    <tr>\n",
              "      <th>2</th>\n",
              "      <td>1</td>\n",
              "      <td>I'll start by saying this is the first of four...</td>\n",
              "    </tr>\n",
              "    <tr>\n",
              "      <th>3</th>\n",
              "      <td>1</td>\n",
              "      <td>Aggie is Angela Lansbury who carries pocketboo...</td>\n",
              "    </tr>\n",
              "    <tr>\n",
              "      <th>4</th>\n",
              "      <td>2</td>\n",
              "      <td>I did not expect this type of book to be in li...</td>\n",
              "    </tr>\n",
              "    <tr>\n",
              "      <th>...</th>\n",
              "      <td>...</td>\n",
              "      <td>...</td>\n",
              "    </tr>\n",
              "    <tr>\n",
              "      <th>2985</th>\n",
              "      <td>2</td>\n",
              "      <td>4.5 FeathersWolf FlightReviewed by Francesca a...</td>\n",
              "    </tr>\n",
              "    <tr>\n",
              "      <th>2986</th>\n",
              "      <td>2</td>\n",
              "      <td>I liked that this book had a few new ideas com...</td>\n",
              "    </tr>\n",
              "    <tr>\n",
              "      <th>2987</th>\n",
              "      <td>2</td>\n",
              "      <td>I ABSOLUTELY LOVED THIS STORY!!! The author di...</td>\n",
              "    </tr>\n",
              "    <tr>\n",
              "      <th>2988</th>\n",
              "      <td>0</td>\n",
              "      <td>This is nothing but smut. I realize that eroti...</td>\n",
              "    </tr>\n",
              "    <tr>\n",
              "      <th>2989</th>\n",
              "      <td>2</td>\n",
              "      <td>T</td>\n",
              "    </tr>\n",
              "  </tbody>\n",
              "</table>\n",
              "<p>2990 rows × 2 columns</p>\n",
              "</div>\n",
              "      <button class=\"colab-df-convert\" onclick=\"convertToInteractive('df-129534e5-fe22-4709-928e-0193228db4b4')\"\n",
              "              title=\"Convert this dataframe to an interactive table.\"\n",
              "              style=\"display:none;\">\n",
              "        \n",
              "  <svg xmlns=\"http://www.w3.org/2000/svg\" height=\"24px\"viewBox=\"0 0 24 24\"\n",
              "       width=\"24px\">\n",
              "    <path d=\"M0 0h24v24H0V0z\" fill=\"none\"/>\n",
              "    <path d=\"M18.56 5.44l.94 2.06.94-2.06 2.06-.94-2.06-.94-.94-2.06-.94 2.06-2.06.94zm-11 1L8.5 8.5l.94-2.06 2.06-.94-2.06-.94L8.5 2.5l-.94 2.06-2.06.94zm10 10l.94 2.06.94-2.06 2.06-.94-2.06-.94-.94-2.06-.94 2.06-2.06.94z\"/><path d=\"M17.41 7.96l-1.37-1.37c-.4-.4-.92-.59-1.43-.59-.52 0-1.04.2-1.43.59L10.3 9.45l-7.72 7.72c-.78.78-.78 2.05 0 2.83L4 21.41c.39.39.9.59 1.41.59.51 0 1.02-.2 1.41-.59l7.78-7.78 2.81-2.81c.8-.78.8-2.07 0-2.86zM5.41 20L4 18.59l7.72-7.72 1.47 1.35L5.41 20z\"/>\n",
              "  </svg>\n",
              "      </button>\n",
              "      \n",
              "  <style>\n",
              "    .colab-df-container {\n",
              "      display:flex;\n",
              "      flex-wrap:wrap;\n",
              "      gap: 12px;\n",
              "    }\n",
              "\n",
              "    .colab-df-convert {\n",
              "      background-color: #E8F0FE;\n",
              "      border: none;\n",
              "      border-radius: 50%;\n",
              "      cursor: pointer;\n",
              "      display: none;\n",
              "      fill: #1967D2;\n",
              "      height: 32px;\n",
              "      padding: 0 0 0 0;\n",
              "      width: 32px;\n",
              "    }\n",
              "\n",
              "    .colab-df-convert:hover {\n",
              "      background-color: #E2EBFA;\n",
              "      box-shadow: 0px 1px 2px rgba(60, 64, 67, 0.3), 0px 1px 3px 1px rgba(60, 64, 67, 0.15);\n",
              "      fill: #174EA6;\n",
              "    }\n",
              "\n",
              "    [theme=dark] .colab-df-convert {\n",
              "      background-color: #3B4455;\n",
              "      fill: #D2E3FC;\n",
              "    }\n",
              "\n",
              "    [theme=dark] .colab-df-convert:hover {\n",
              "      background-color: #434B5C;\n",
              "      box-shadow: 0px 1px 3px 1px rgba(0, 0, 0, 0.15);\n",
              "      filter: drop-shadow(0px 1px 2px rgba(0, 0, 0, 0.3));\n",
              "      fill: #FFFFFF;\n",
              "    }\n",
              "  </style>\n",
              "\n",
              "      <script>\n",
              "        const buttonEl =\n",
              "          document.querySelector('#df-129534e5-fe22-4709-928e-0193228db4b4 button.colab-df-convert');\n",
              "        buttonEl.style.display =\n",
              "          google.colab.kernel.accessAllowed ? 'block' : 'none';\n",
              "\n",
              "        async function convertToInteractive(key) {\n",
              "          const element = document.querySelector('#df-129534e5-fe22-4709-928e-0193228db4b4');\n",
              "          const dataTable =\n",
              "            await google.colab.kernel.invokeFunction('convertToInteractive',\n",
              "                                                     [key], {});\n",
              "          if (!dataTable) return;\n",
              "\n",
              "          const docLinkHtml = 'Like what you see? Visit the ' +\n",
              "            '<a target=\"_blank\" href=https://colab.research.google.com/notebooks/data_table.ipynb>data table notebook</a>'\n",
              "            + ' to learn more about interactive tables.';\n",
              "          element.innerHTML = '';\n",
              "          dataTable['output_type'] = 'display_data';\n",
              "          await google.colab.output.renderOutput(dataTable, element);\n",
              "          const docLink = document.createElement('div');\n",
              "          docLink.innerHTML = docLinkHtml;\n",
              "          element.appendChild(docLink);\n",
              "        }\n",
              "      </script>\n",
              "    </div>\n",
              "  </div>\n",
              "  "
            ]
          },
          "metadata": {},
          "execution_count": 11
        }
      ],
      "source": [
        "data"
      ]
    },
    {
      "cell_type": "markdown",
      "metadata": {
        "id": "6noryUUsbUrS"
      },
      "source": [
        "# Preprocessing"
      ]
    },
    {
      "cell_type": "code",
      "execution_count": null,
      "metadata": {
        "id": "dgQf98FUpr6W"
      },
      "outputs": [],
      "source": [
        "from nltk.corpus import stopwords\n",
        "import string\n",
        "import nltk\n",
        "import re\n",
        "import gensim\n",
        "from nltk.tokenize.treebank import TreebankWordDetokenizer"
      ]
    },
    {
      "cell_type": "code",
      "execution_count": null,
      "metadata": {
        "id": "ueTPvI6hoyEY"
      },
      "outputs": [],
      "source": [
        "def depure_data(data):\n",
        "\n",
        "    #Removing URLs with a regular expression\n",
        "    url_pattern = re.compile(r'https?://\\S+|www\\.\\S+')\n",
        "    data = url_pattern.sub(r'', data)\n",
        "\n",
        "    # Remove Email\n",
        "    data = re.sub('\\S*@\\S*\\s?', '', data)\n",
        "\n",
        "    # Remove new line characters\n",
        "    data = re.sub('\\s+', ' ', data)\n",
        "\n",
        "    # Remove distracting single quotes\n",
        "    data = re.sub(\"\\'\", \"\", data)\n",
        "\n",
        "    # Removing punctuation\n",
        "    exclude = set(string.punctuation)\n",
        "    try:\n",
        "        data = ''.join(ch for ch in data if ch not in exclude)\n",
        "    except:\n",
        "        pass\n",
        "\n",
        "    return data"
      ]
    },
    {
      "cell_type": "markdown",
      "source": [
        "### Here, we have defined a function to remove the unnecessary punctuations, URL indicators such as 'https', 'www', etc., email address indicators like '@' and other characters like single quotes and new line characters from our reviewText sentences"
      ],
      "metadata": {
        "id": "w8Ji9-E-z-y9"
      }
    },
    {
      "cell_type": "code",
      "execution_count": null,
      "metadata": {
        "id": "1jIZlAf9qMLg"
      },
      "outputs": [],
      "source": [
        "def sent_to_words(sentences):\n",
        "    for sentence in sentences:\n",
        "        yield(gensim.utils.simple_preprocess(str(sentence), deacc=True))"
      ]
    },
    {
      "cell_type": "markdown",
      "source": [
        "### Here, we have defined another function using gensim.utils.simple_preprocess() function to tokenize the reviews, but apart from tokenizing it is also converting all the characters in the reviews to lower case characters, removing the tokens containing only 2 characters and it also removing the accent marks from letters such that letters like 'é' will be converted to 'e'."
      ],
      "metadata": {
        "id": "7VebGiBy1hWW"
      }
    },
    {
      "cell_type": "code",
      "execution_count": null,
      "metadata": {
        "id": "vYestEHUqRo4"
      },
      "outputs": [],
      "source": [
        "def detokenize(text):\n",
        "    return TreebankWordDetokenizer().detokenize(text)"
      ]
    },
    {
      "cell_type": "markdown",
      "source": [
        "### Here, we have defined another function to convert the tokens previously formed to sentences using detokenize() function before tokenizing it again into sequence of integers"
      ],
      "metadata": {
        "id": "HHra0oQP3Yqe"
      }
    },
    {
      "cell_type": "code",
      "execution_count": null,
      "metadata": {
        "colab": {
          "base_uri": "https://localhost:8080/"
        },
        "id": "M-InvDUXqVCw",
        "outputId": "6ffcb4a2-ca6b-490f-d80f-6397dc3df02c"
      },
      "outputs": [
        {
          "output_type": "stream",
          "name": "stdout",
          "text": [
            "['jace rankin may be short but hes nothing to mess with as the man who was just hauled out of the saloon by the undertaker knows now hes famous bounty hunter in oregon in the who when he shot the man in the saloon just finished years long quest to avenge his sisters murder and is now trying to figure out what to do next when the snottynosed farm boy he just rescued from gang of bullies offers him money to kill man who forced him off his ranch he reluctantly agrees to bring the man to justice but not to kill him outright but first he needs to tell his sisters widower the newskyla kyle springer bailey has been riding the trails and sleeping on the ground for the past month while trying to find jace she wants revenge on the man who killed her husband and took her ranch amongst other crimes and shes not so keen on the detour jace wants to take but she realizes shes out of options so she hides behind her boy persona as best she can and tries to keep pace when confrontation along the way gets her shot and jace discovers that kyles kyla she has to come clean about the whole reason she needs this scoundrel dead and hope hell still help herthe book has its share of touching moments and slowblooming romance kyla we find out has good reason to fear men and hide behind boys persona watching jace slowly pull her out of that shell and help her conquer her fears was endearing her pain was real and deeplyrooted and didnt just disappear in the face of his sexiness neither did his understandable aversion to marriage magically disappear after round of nookie why would man whos drifted from town to town for his entire adult life man whos killed his fair share of men along the way feel hed make good husband or father theyre both the walking wounded and in unique position to help each other they just need time to realize ithowever while it was packed to bursting with my favorite themes old west setting heroine passing as male morally ambiguous hero wounded souls road romance the kitchen sink there was certaindistance in the writing that kept me from getting carried away both characters were distinct and fullyformed and couldnt point to any glaring instances of bland telling or anything just never felt really invested enjoyed it quite bit as it was an exciting trip but was watching them from far away definitely wasnt on the run alongside them add on hasty and too tidy ending and the book left me feeling bit less than completely satisfiedi enjoyed the book but cant say it was above average id still read another book by the authornote read the rereleased ebook version and noticed there were lot of formatting errors and missing words had to mentally edit as read for some sentences to make sense it wasnt too too bad but it was little distracting', 'great short read didnt want to put it down so read it all in one sitting the sex scenes were great between the two males and one female charactera bit surprising never thought you could do that learned something new and really enjoyed reading this book this is great way to get all hot and bothered and take advantage of your significant others', 'ill start by saying this is the first of four books so wasnt expecting it to conclude it centers on children alex and his younger brother argus and alexs friend sapphire they find name on bus map that they cant find and so the mystery starts well written with good character development although lots of room still for moreits quite short book so will be moving onto book swiftly', 'aggie is angela lansbury who carries pocketbooks instead of writing them while this light murder mystery is laced with misdirections the clues lead to rather obvious cliche of an ending the setting views described in the story are its best and most believable parts and aggie the only wellwritten character very light reading', 'did not expect this type of book to be in library was pleased to find it price was right']\n"
          ]
        }
      ],
      "source": [
        "temp = []\n",
        "#Splitting pd.Series to list\n",
        "data_to_list = data['reviewText'].values.tolist()\n",
        "for i in range(len(data_to_list)):\n",
        "    temp.append(depure_data(data_to_list[i]))\n",
        "data_words = list(sent_to_words(temp))\n",
        "input = []\n",
        "for i in range(len(data_words)):\n",
        "    input.append(detokenize(data_words[i]))\n",
        "print(input[:5])"
      ]
    },
    {
      "cell_type": "markdown",
      "source": [
        "### Here, we have used all the functions previously defined for performing the necessary preprocessing steps on our dataset"
      ],
      "metadata": {
        "id": "VUQ5EZwA3unM"
      }
    },
    {
      "cell_type": "code",
      "execution_count": null,
      "metadata": {
        "colab": {
          "base_uri": "https://localhost:8080/"
        },
        "id": "Jh3DbBu313zX",
        "outputId": "35f823b7-4ff2-46da-edd9-e4218b7f8119"
      },
      "outputs": [
        {
          "output_type": "stream",
          "name": "stdout",
          "text": [
            "[[ 129  152 1367 ...    8   93 1486]\n",
            " [   0    0    0 ...  107 2222  296]\n",
            " [   0    0    0 ... 1487   11 8963]\n",
            " ...\n",
            " [   0    0    0 ...    9    7   29]\n",
            " [   0    0    0 ...  401    4   71]\n",
            " [   0    0    0 ...    0    0    0]]\n"
          ]
        }
      ],
      "source": [
        "from keras.preprocessing.text import Tokenizer\n",
        "from tensorflow.keras.preprocessing.sequence import pad_sequences\n",
        "from keras import regularizers\n",
        "\n",
        "max_words = 10000\n",
        "max_len = 200\n",
        "\n",
        "tokenizer = Tokenizer(num_words=max_words)\n",
        "tokenizer.fit_on_texts(input)\n",
        "sequences = tokenizer.texts_to_sequences(input)\n",
        "tweets = pad_sequences(sequences, maxlen=max_len)\n",
        "print(tweets)"
      ]
    },
    {
      "cell_type": "markdown",
      "source": [
        "### After improving the quality of the reviews, we are finally going to tokenize the reviews into sequence of integers and then we are going to pad the sequences to length 200"
      ],
      "metadata": {
        "id": "NbHGjAc84sE2"
      }
    },
    {
      "cell_type": "code",
      "execution_count": null,
      "metadata": {
        "colab": {
          "base_uri": "https://localhost:8080/"
        },
        "id": "q1Y1xDuQwFbz",
        "outputId": "ce6bde14-e6c3-4eea-d6c5-f594a998a984"
      },
      "outputs": [
        {
          "output_type": "execute_result",
          "data": {
            "text/plain": [
              "array([[0, 1, 0],\n",
              "       [0, 0, 1],\n",
              "       [0, 1, 0],\n",
              "       ...,\n",
              "       [0, 0, 1],\n",
              "       [1, 0, 0],\n",
              "       [0, 0, 1]], dtype=uint8)"
            ]
          },
          "metadata": {},
          "execution_count": 18
        }
      ],
      "source": [
        "sentiment_label = pd.get_dummies(data['rating']).values\n",
        "sentiment_label"
      ]
    },
    {
      "cell_type": "markdown",
      "source": [
        "### Here, we are using Pandas get_dummies() function to perform one-hot encoding on the ratings"
      ],
      "metadata": {
        "id": "NvOiuQVwIUjf"
      }
    },
    {
      "cell_type": "code",
      "execution_count": null,
      "metadata": {
        "id": "pXZXST09kJiY"
      },
      "outputs": [],
      "source": [
        "from sklearn.model_selection import train_test_split\n",
        "X_train, X_test, y_train, y_test = train_test_split(tweets, sentiment_label, test_size=0.33, random_state=42)"
      ]
    },
    {
      "cell_type": "markdown",
      "source": [
        "### Here, we are going to train our model using two-third, i.e., 66.67% of our dataset and then we are going to test our model with the help of the remaining one-third, i.e., 33.33% of our dataset"
      ],
      "metadata": {
        "id": "9c6pCJbQcpn0"
      }
    },
    {
      "cell_type": "code",
      "execution_count": null,
      "metadata": {
        "colab": {
          "base_uri": "https://localhost:8080/"
        },
        "id": "I1929brGZzm0",
        "outputId": "39244761-5b24-4e37-a7b7-878828edb2dd"
      },
      "outputs": [
        {
          "output_type": "stream",
          "name": "stdout",
          "text": [
            "(2003, 200) (2003, 3)\n",
            "(987, 200) (987, 3)\n"
          ]
        }
      ],
      "source": [
        "print(X_train.shape,y_train.shape)\n",
        "print(X_test.shape,y_test.shape)"
      ]
    },
    {
      "cell_type": "code",
      "source": [
        "from keras.models import Sequential\n",
        "from keras import layers\n",
        "from keras import regularizers\n",
        "from keras import backend as K\n",
        "from keras.callbacks import ModelCheckpoint\n",
        "import tensorflow as tf"
      ],
      "metadata": {
        "id": "AUkcAWGtN4br"
      },
      "execution_count": null,
      "outputs": []
    },
    {
      "cell_type": "markdown",
      "source": [
        "# **Model 1: LSTM Layers**"
      ],
      "metadata": {
        "id": "WicUa6J-LZrH"
      }
    },
    {
      "cell_type": "code",
      "source": [
        "model1 = Sequential()\n",
        "model1.add(layers.Embedding(max_words ,128, input_length = X_train.shape[1])) #The embedding layer\n",
        "#model1.add(SpatialDropout1D(0.25))\n",
        "model1.add(layers.LSTM(50,dropout=0.5)) #,recurrent_dropout=0.5)) #Our LSTM layer\n",
        "#model1.add(Dropout(0.2))\n",
        "#model1.add(layers.Flatten())\n",
        "model1.add(layers.Dense(3, activation='softmax'))\n",
        "model1.compile(optimizer='rmsprop',loss='categorical_crossentropy', metrics=['accuracy'])\n",
        "\n",
        "checkpoint1 = ModelCheckpoint(\"best_model1.hdf5\", monitor='val_accuracy', verbose=1,save_best_only=True, mode='auto', period=1,save_weights_only=False)\n",
        "\n",
        "history1 = model1.fit(X_train, y_train,validation_data = (X_test , y_test),epochs=70, callbacks=[checkpoint1])\n"
      ],
      "metadata": {
        "colab": {
          "base_uri": "https://localhost:8080/"
        },
        "id": "oZsOIy03N9tP",
        "outputId": "c16b7f92-c36b-4434-9e7d-301cba868351"
      },
      "execution_count": null,
      "outputs": [
        {
          "output_type": "stream",
          "name": "stderr",
          "text": [
            "WARNING:tensorflow:`period` argument is deprecated. Please use `save_freq` to specify the frequency in number of batches seen.\n"
          ]
        },
        {
          "output_type": "stream",
          "name": "stdout",
          "text": [
            "Epoch 1/70\n",
            "63/63 [==============================] - ETA: 0s - loss: 0.9969 - accuracy: 0.5042\n",
            "Epoch 1: val_accuracy improved from -inf to 0.61803, saving model to best_model1.hdf5\n",
            "63/63 [==============================] - 20s 185ms/step - loss: 0.9969 - accuracy: 0.5042 - val_loss: 0.9288 - val_accuracy: 0.6180\n",
            "Epoch 2/70\n",
            "63/63 [==============================] - ETA: 0s - loss: 0.8234 - accuracy: 0.6640\n",
            "Epoch 2: val_accuracy improved from 0.61803 to 0.66971, saving model to best_model1.hdf5\n",
            "63/63 [==============================] - 9s 136ms/step - loss: 0.8234 - accuracy: 0.6640 - val_loss: 0.7970 - val_accuracy: 0.6697\n",
            "Epoch 3/70\n",
            "63/63 [==============================] - ETA: 0s - loss: 0.6624 - accuracy: 0.7269\n",
            "Epoch 3: val_accuracy improved from 0.66971 to 0.70821, saving model to best_model1.hdf5\n",
            "63/63 [==============================] - 9s 139ms/step - loss: 0.6624 - accuracy: 0.7269 - val_loss: 0.7195 - val_accuracy: 0.7082\n",
            "Epoch 4/70\n",
            "63/63 [==============================] - ETA: 0s - loss: 0.5619 - accuracy: 0.7678\n",
            "Epoch 4: val_accuracy did not improve from 0.70821\n",
            "63/63 [==============================] - 7s 111ms/step - loss: 0.5619 - accuracy: 0.7678 - val_loss: 0.7400 - val_accuracy: 0.6991\n",
            "Epoch 5/70\n",
            "62/63 [============================>.] - ETA: 0s - loss: 0.4755 - accuracy: 0.8090\n",
            "Epoch 5: val_accuracy did not improve from 0.70821\n",
            "63/63 [==============================] - 9s 144ms/step - loss: 0.4754 - accuracy: 0.8088 - val_loss: 0.7045 - val_accuracy: 0.6981\n",
            "Epoch 6/70\n",
            "63/63 [==============================] - ETA: 0s - loss: 0.3971 - accuracy: 0.8522\n",
            "Epoch 6: val_accuracy improved from 0.70821 to 0.71023, saving model to best_model1.hdf5\n",
            "63/63 [==============================] - 9s 138ms/step - loss: 0.3971 - accuracy: 0.8522 - val_loss: 0.7586 - val_accuracy: 0.7102\n",
            "Epoch 7/70\n",
            "63/63 [==============================] - ETA: 0s - loss: 0.3166 - accuracy: 0.8817\n",
            "Epoch 7: val_accuracy did not improve from 0.71023\n",
            "63/63 [==============================] - 6s 91ms/step - loss: 0.3166 - accuracy: 0.8817 - val_loss: 0.7616 - val_accuracy: 0.6930\n",
            "Epoch 8/70\n",
            "63/63 [==============================] - ETA: 0s - loss: 0.2725 - accuracy: 0.9026\n",
            "Epoch 8: val_accuracy did not improve from 0.71023\n",
            "63/63 [==============================] - 5s 80ms/step - loss: 0.2725 - accuracy: 0.9026 - val_loss: 1.3555 - val_accuracy: 0.6292\n",
            "Epoch 9/70\n",
            "62/63 [============================>.] - ETA: 0s - loss: 0.2247 - accuracy: 0.9163\n",
            "Epoch 9: val_accuracy did not improve from 0.71023\n",
            "63/63 [==============================] - 3s 53ms/step - loss: 0.2249 - accuracy: 0.9166 - val_loss: 0.8531 - val_accuracy: 0.6859\n",
            "Epoch 10/70\n",
            "63/63 [==============================] - ETA: 0s - loss: 0.1890 - accuracy: 0.9346\n",
            "Epoch 10: val_accuracy did not improve from 0.71023\n",
            "63/63 [==============================] - 4s 63ms/step - loss: 0.1890 - accuracy: 0.9346 - val_loss: 0.9360 - val_accuracy: 0.6890\n",
            "Epoch 11/70\n",
            "63/63 [==============================] - ETA: 0s - loss: 0.1543 - accuracy: 0.9441\n",
            "Epoch 11: val_accuracy did not improve from 0.71023\n",
            "63/63 [==============================] - 2s 40ms/step - loss: 0.1543 - accuracy: 0.9441 - val_loss: 1.0182 - val_accuracy: 0.6950\n",
            "Epoch 12/70\n",
            "63/63 [==============================] - ETA: 0s - loss: 0.1421 - accuracy: 0.9496\n",
            "Epoch 12: val_accuracy did not improve from 0.71023\n",
            "63/63 [==============================] - 4s 57ms/step - loss: 0.1421 - accuracy: 0.9496 - val_loss: 0.9755 - val_accuracy: 0.6900\n",
            "Epoch 13/70\n",
            "63/63 [==============================] - ETA: 0s - loss: 0.0965 - accuracy: 0.9670\n",
            "Epoch 13: val_accuracy did not improve from 0.71023\n",
            "63/63 [==============================] - 4s 57ms/step - loss: 0.0965 - accuracy: 0.9670 - val_loss: 1.2660 - val_accuracy: 0.6950\n",
            "Epoch 14/70\n",
            "62/63 [============================>.] - ETA: 0s - loss: 0.0949 - accuracy: 0.9698\n",
            "Epoch 14: val_accuracy did not improve from 0.71023\n",
            "63/63 [==============================] - 7s 117ms/step - loss: 0.0952 - accuracy: 0.9695 - val_loss: 1.2211 - val_accuracy: 0.6657\n",
            "Epoch 15/70\n",
            "63/63 [==============================] - ETA: 0s - loss: 0.0785 - accuracy: 0.9760\n",
            "Epoch 15: val_accuracy did not improve from 0.71023\n",
            "63/63 [==============================] - 5s 83ms/step - loss: 0.0785 - accuracy: 0.9760 - val_loss: 1.1521 - val_accuracy: 0.6545\n",
            "Epoch 16/70\n",
            "63/63 [==============================] - ETA: 0s - loss: 0.0680 - accuracy: 0.9780\n",
            "Epoch 16: val_accuracy did not improve from 0.71023\n",
            "63/63 [==============================] - 4s 59ms/step - loss: 0.0680 - accuracy: 0.9780 - val_loss: 1.2536 - val_accuracy: 0.6748\n",
            "Epoch 17/70\n",
            "63/63 [==============================] - ETA: 0s - loss: 0.0606 - accuracy: 0.9845\n",
            "Epoch 17: val_accuracy did not improve from 0.71023\n",
            "63/63 [==============================] - 4s 67ms/step - loss: 0.0606 - accuracy: 0.9845 - val_loss: 1.3848 - val_accuracy: 0.6565\n",
            "Epoch 18/70\n",
            "63/63 [==============================] - ETA: 0s - loss: 0.0500 - accuracy: 0.9815\n",
            "Epoch 18: val_accuracy did not improve from 0.71023\n",
            "63/63 [==============================] - 3s 47ms/step - loss: 0.0500 - accuracy: 0.9815 - val_loss: 1.3633 - val_accuracy: 0.6353\n",
            "Epoch 19/70\n",
            "63/63 [==============================] - ETA: 0s - loss: 0.0383 - accuracy: 0.9900\n",
            "Epoch 19: val_accuracy did not improve from 0.71023\n",
            "63/63 [==============================] - 6s 99ms/step - loss: 0.0383 - accuracy: 0.9900 - val_loss: 1.4425 - val_accuracy: 0.6758\n",
            "Epoch 20/70\n",
            "63/63 [==============================] - ETA: 0s - loss: 0.0367 - accuracy: 0.9885\n",
            "Epoch 20: val_accuracy did not improve from 0.71023\n",
            "63/63 [==============================] - 2s 29ms/step - loss: 0.0367 - accuracy: 0.9885 - val_loss: 1.4539 - val_accuracy: 0.6788\n",
            "Epoch 21/70\n",
            "60/63 [===========================>..] - ETA: 0s - loss: 0.0308 - accuracy: 0.9901\n",
            "Epoch 21: val_accuracy did not improve from 0.71023\n",
            "63/63 [==============================] - 1s 18ms/step - loss: 0.0298 - accuracy: 0.9905 - val_loss: 2.0375 - val_accuracy: 0.6657\n",
            "Epoch 22/70\n",
            "63/63 [==============================] - ETA: 0s - loss: 0.0434 - accuracy: 0.9905\n",
            "Epoch 22: val_accuracy did not improve from 0.71023\n",
            "63/63 [==============================] - 2s 39ms/step - loss: 0.0434 - accuracy: 0.9905 - val_loss: 1.4501 - val_accuracy: 0.6545\n",
            "Epoch 23/70\n",
            "63/63 [==============================] - ETA: 0s - loss: 0.0424 - accuracy: 0.9875\n",
            "Epoch 23: val_accuracy did not improve from 0.71023\n",
            "63/63 [==============================] - 2s 26ms/step - loss: 0.0424 - accuracy: 0.9875 - val_loss: 1.3690 - val_accuracy: 0.6890\n",
            "Epoch 24/70\n",
            "63/63 [==============================] - ETA: 0s - loss: 0.0192 - accuracy: 0.9955\n",
            "Epoch 24: val_accuracy did not improve from 0.71023\n",
            "63/63 [==============================] - 3s 41ms/step - loss: 0.0192 - accuracy: 0.9955 - val_loss: 1.6665 - val_accuracy: 0.6636\n",
            "Epoch 25/70\n",
            "63/63 [==============================] - ETA: 0s - loss: 0.0223 - accuracy: 0.9920\n",
            "Epoch 25: val_accuracy did not improve from 0.71023\n",
            "63/63 [==============================] - 1s 23ms/step - loss: 0.0223 - accuracy: 0.9920 - val_loss: 1.5179 - val_accuracy: 0.6667\n",
            "Epoch 26/70\n",
            "63/63 [==============================] - ETA: 0s - loss: 0.0227 - accuracy: 0.9930\n",
            "Epoch 26: val_accuracy did not improve from 0.71023\n",
            "63/63 [==============================] - 1s 18ms/step - loss: 0.0227 - accuracy: 0.9930 - val_loss: 1.6792 - val_accuracy: 0.6677\n",
            "Epoch 27/70\n",
            "63/63 [==============================] - ETA: 0s - loss: 0.0402 - accuracy: 0.9895\n",
            "Epoch 27: val_accuracy did not improve from 0.71023\n",
            "63/63 [==============================] - 2s 25ms/step - loss: 0.0402 - accuracy: 0.9895 - val_loss: 1.5963 - val_accuracy: 0.6869\n",
            "Epoch 28/70\n",
            "63/63 [==============================] - ETA: 0s - loss: 0.0092 - accuracy: 0.9980\n",
            "Epoch 28: val_accuracy did not improve from 0.71023\n",
            "63/63 [==============================] - 1s 23ms/step - loss: 0.0092 - accuracy: 0.9980 - val_loss: 1.8784 - val_accuracy: 0.6322\n",
            "Epoch 29/70\n",
            "63/63 [==============================] - ETA: 0s - loss: 0.0152 - accuracy: 0.9950\n",
            "Epoch 29: val_accuracy did not improve from 0.71023\n",
            "63/63 [==============================] - 1s 23ms/step - loss: 0.0152 - accuracy: 0.9950 - val_loss: 1.7339 - val_accuracy: 0.6758\n",
            "Epoch 30/70\n",
            "63/63 [==============================] - ETA: 0s - loss: 0.0234 - accuracy: 0.9965\n",
            "Epoch 30: val_accuracy did not improve from 0.71023\n",
            "63/63 [==============================] - 1s 18ms/step - loss: 0.0234 - accuracy: 0.9965 - val_loss: 1.7236 - val_accuracy: 0.6859\n",
            "Epoch 31/70\n",
            "63/63 [==============================] - ETA: 0s - loss: 0.0185 - accuracy: 0.9960\n",
            "Epoch 31: val_accuracy did not improve from 0.71023\n",
            "63/63 [==============================] - 1s 24ms/step - loss: 0.0185 - accuracy: 0.9960 - val_loss: 1.7625 - val_accuracy: 0.6758\n",
            "Epoch 32/70\n",
            "62/63 [============================>.] - ETA: 0s - loss: 0.0150 - accuracy: 0.9945\n",
            "Epoch 32: val_accuracy did not improve from 0.71023\n",
            "63/63 [==============================] - 2s 28ms/step - loss: 0.0149 - accuracy: 0.9945 - val_loss: 1.7953 - val_accuracy: 0.6829\n",
            "Epoch 33/70\n",
            "59/63 [===========================>..] - ETA: 0s - loss: 0.0153 - accuracy: 0.9952\n",
            "Epoch 33: val_accuracy did not improve from 0.71023\n",
            "63/63 [==============================] - 2s 25ms/step - loss: 0.0160 - accuracy: 0.9950 - val_loss: 1.8150 - val_accuracy: 0.6646\n",
            "Epoch 34/70\n",
            "61/63 [============================>.] - ETA: 0s - loss: 0.0119 - accuracy: 0.9964\n",
            "Epoch 34: val_accuracy did not improve from 0.71023\n",
            "63/63 [==============================] - 1s 23ms/step - loss: 0.0124 - accuracy: 0.9960 - val_loss: 1.6762 - val_accuracy: 0.6717\n",
            "Epoch 35/70\n",
            "61/63 [============================>.] - ETA: 0s - loss: 0.0043 - accuracy: 0.9995\n",
            "Epoch 35: val_accuracy did not improve from 0.71023\n",
            "63/63 [==============================] - 1s 20ms/step - loss: 0.0044 - accuracy: 0.9995 - val_loss: 1.8191 - val_accuracy: 0.6626\n",
            "Epoch 36/70\n",
            "63/63 [==============================] - ETA: 0s - loss: 0.0120 - accuracy: 0.9960\n",
            "Epoch 36: val_accuracy did not improve from 0.71023\n",
            "63/63 [==============================] - 1s 21ms/step - loss: 0.0120 - accuracy: 0.9960 - val_loss: 2.0398 - val_accuracy: 0.6646\n",
            "Epoch 37/70\n",
            "61/63 [============================>.] - ETA: 0s - loss: 0.0159 - accuracy: 0.9964\n",
            "Epoch 37: val_accuracy did not improve from 0.71023\n",
            "63/63 [==============================] - 1s 16ms/step - loss: 0.0166 - accuracy: 0.9960 - val_loss: 2.0879 - val_accuracy: 0.6322\n",
            "Epoch 38/70\n",
            "63/63 [==============================] - ETA: 0s - loss: 0.0092 - accuracy: 0.9985\n",
            "Epoch 38: val_accuracy did not improve from 0.71023\n",
            "63/63 [==============================] - 2s 26ms/step - loss: 0.0092 - accuracy: 0.9985 - val_loss: 1.9644 - val_accuracy: 0.6727\n",
            "Epoch 39/70\n",
            "63/63 [==============================] - ETA: 0s - loss: 0.0047 - accuracy: 0.9985\n",
            "Epoch 39: val_accuracy did not improve from 0.71023\n",
            "63/63 [==============================] - 2s 28ms/step - loss: 0.0047 - accuracy: 0.9985 - val_loss: 2.1547 - val_accuracy: 0.6697\n",
            "Epoch 40/70\n",
            "63/63 [==============================] - ETA: 0s - loss: 0.0046 - accuracy: 0.9985\n",
            "Epoch 40: val_accuracy did not improve from 0.71023\n",
            "63/63 [==============================] - 1s 18ms/step - loss: 0.0046 - accuracy: 0.9985 - val_loss: 2.1003 - val_accuracy: 0.6717\n",
            "Epoch 41/70\n",
            "60/63 [===========================>..] - ETA: 0s - loss: 0.0031 - accuracy: 0.9990\n",
            "Epoch 41: val_accuracy did not improve from 0.71023\n",
            "63/63 [==============================] - 2s 24ms/step - loss: 0.0030 - accuracy: 0.9990 - val_loss: 2.0826 - val_accuracy: 0.6768\n",
            "Epoch 42/70\n",
            "63/63 [==============================] - ETA: 0s - loss: 0.0151 - accuracy: 0.9940\n",
            "Epoch 42: val_accuracy did not improve from 0.71023\n",
            "63/63 [==============================] - 1s 21ms/step - loss: 0.0151 - accuracy: 0.9940 - val_loss: 1.9482 - val_accuracy: 0.6697\n",
            "Epoch 43/70\n",
            "63/63 [==============================] - ETA: 0s - loss: 0.0079 - accuracy: 0.9985\n",
            "Epoch 43: val_accuracy did not improve from 0.71023\n",
            "63/63 [==============================] - 1s 17ms/step - loss: 0.0079 - accuracy: 0.9985 - val_loss: 2.1682 - val_accuracy: 0.6636\n",
            "Epoch 44/70\n",
            "59/63 [===========================>..] - ETA: 0s - loss: 0.0165 - accuracy: 0.9974\n",
            "Epoch 44: val_accuracy did not improve from 0.71023\n",
            "63/63 [==============================] - 1s 18ms/step - loss: 0.0208 - accuracy: 0.9970 - val_loss: 1.9902 - val_accuracy: 0.6798\n",
            "Epoch 45/70\n",
            "63/63 [==============================] - ETA: 0s - loss: 6.1723e-04 - accuracy: 1.0000\n",
            "Epoch 45: val_accuracy did not improve from 0.71023\n",
            "63/63 [==============================] - 1s 18ms/step - loss: 6.1723e-04 - accuracy: 1.0000 - val_loss: 2.2515 - val_accuracy: 0.6758\n",
            "Epoch 46/70\n",
            "63/63 [==============================] - ETA: 0s - loss: 0.0134 - accuracy: 0.9970\n",
            "Epoch 46: val_accuracy did not improve from 0.71023\n",
            "63/63 [==============================] - 1s 17ms/step - loss: 0.0134 - accuracy: 0.9970 - val_loss: 2.1836 - val_accuracy: 0.6930\n",
            "Epoch 47/70\n",
            "58/63 [==========================>...] - ETA: 0s - loss: 0.0088 - accuracy: 0.9973\n",
            "Epoch 47: val_accuracy did not improve from 0.71023\n",
            "63/63 [==============================] - 2s 25ms/step - loss: 0.0082 - accuracy: 0.9975 - val_loss: 2.1044 - val_accuracy: 0.6717\n",
            "Epoch 48/70\n",
            "63/63 [==============================] - ETA: 0s - loss: 0.0134 - accuracy: 0.9985\n",
            "Epoch 48: val_accuracy did not improve from 0.71023\n",
            "63/63 [==============================] - 1s 20ms/step - loss: 0.0134 - accuracy: 0.9985 - val_loss: 2.2940 - val_accuracy: 0.6657\n",
            "Epoch 49/70\n",
            "63/63 [==============================] - ETA: 0s - loss: 0.0043 - accuracy: 0.9985\n",
            "Epoch 49: val_accuracy did not improve from 0.71023\n",
            "63/63 [==============================] - 1s 17ms/step - loss: 0.0043 - accuracy: 0.9985 - val_loss: 2.2511 - val_accuracy: 0.6758\n",
            "Epoch 50/70\n",
            "62/63 [============================>.] - ETA: 0s - loss: 0.0062 - accuracy: 0.9980\n",
            "Epoch 50: val_accuracy did not improve from 0.71023\n",
            "63/63 [==============================] - 1s 14ms/step - loss: 0.0062 - accuracy: 0.9980 - val_loss: 2.1891 - val_accuracy: 0.6575\n",
            "Epoch 51/70\n",
            "61/63 [============================>.] - ETA: 0s - loss: 0.0075 - accuracy: 0.9974\n",
            "Epoch 51: val_accuracy did not improve from 0.71023\n",
            "63/63 [==============================] - 3s 42ms/step - loss: 0.0074 - accuracy: 0.9975 - val_loss: 2.1147 - val_accuracy: 0.6778\n",
            "Epoch 52/70\n",
            "61/63 [============================>.] - ETA: 0s - loss: 0.0147 - accuracy: 0.9990\n",
            "Epoch 52: val_accuracy did not improve from 0.71023\n",
            "63/63 [==============================] - 1s 20ms/step - loss: 0.0143 - accuracy: 0.9990 - val_loss: 2.1087 - val_accuracy: 0.6920\n",
            "Epoch 53/70\n",
            "63/63 [==============================] - ETA: 0s - loss: 0.0038 - accuracy: 0.9985\n",
            "Epoch 53: val_accuracy did not improve from 0.71023\n",
            "63/63 [==============================] - 1s 17ms/step - loss: 0.0038 - accuracy: 0.9985 - val_loss: 2.2188 - val_accuracy: 0.6819\n",
            "Epoch 54/70\n",
            "63/63 [==============================] - ETA: 0s - loss: 0.0141 - accuracy: 0.9970\n",
            "Epoch 54: val_accuracy did not improve from 0.71023\n",
            "63/63 [==============================] - 1s 20ms/step - loss: 0.0141 - accuracy: 0.9970 - val_loss: 2.1118 - val_accuracy: 0.6727\n",
            "Epoch 55/70\n",
            "63/63 [==============================] - ETA: 0s - loss: 0.0035 - accuracy: 0.9990\n",
            "Epoch 55: val_accuracy did not improve from 0.71023\n",
            "63/63 [==============================] - 1s 18ms/step - loss: 0.0035 - accuracy: 0.9990 - val_loss: 2.2913 - val_accuracy: 0.6707\n",
            "Epoch 56/70\n",
            "63/63 [==============================] - ETA: 0s - loss: 0.0144 - accuracy: 0.9955\n",
            "Epoch 56: val_accuracy did not improve from 0.71023\n",
            "63/63 [==============================] - 1s 18ms/step - loss: 0.0144 - accuracy: 0.9955 - val_loss: 2.1278 - val_accuracy: 0.6849\n",
            "Epoch 57/70\n",
            "62/63 [============================>.] - ETA: 0s - loss: 5.9324e-04 - accuracy: 1.0000\n",
            "Epoch 57: val_accuracy did not improve from 0.71023\n",
            "63/63 [==============================] - 1s 21ms/step - loss: 5.8771e-04 - accuracy: 1.0000 - val_loss: 2.3186 - val_accuracy: 0.6809\n",
            "Epoch 58/70\n",
            "62/63 [============================>.] - ETA: 0s - loss: 0.0025 - accuracy: 0.9985\n",
            "Epoch 58: val_accuracy did not improve from 0.71023\n",
            "63/63 [==============================] - 1s 13ms/step - loss: 0.0025 - accuracy: 0.9985 - val_loss: 2.2586 - val_accuracy: 0.6768\n",
            "Epoch 59/70\n",
            "63/63 [==============================] - ETA: 0s - loss: 0.0055 - accuracy: 0.9975\n",
            "Epoch 59: val_accuracy did not improve from 0.71023\n",
            "63/63 [==============================] - 1s 19ms/step - loss: 0.0055 - accuracy: 0.9975 - val_loss: 2.3441 - val_accuracy: 0.6819\n",
            "Epoch 60/70\n",
            "63/63 [==============================] - ETA: 0s - loss: 0.0067 - accuracy: 0.9990\n",
            "Epoch 60: val_accuracy did not improve from 0.71023\n",
            "63/63 [==============================] - 1s 22ms/step - loss: 0.0067 - accuracy: 0.9990 - val_loss: 2.4422 - val_accuracy: 0.6727\n",
            "Epoch 61/70\n",
            "63/63 [==============================] - ETA: 0s - loss: 0.0102 - accuracy: 0.9975\n",
            "Epoch 61: val_accuracy did not improve from 0.71023\n",
            "63/63 [==============================] - 2s 28ms/step - loss: 0.0102 - accuracy: 0.9975 - val_loss: 2.3547 - val_accuracy: 0.6788\n",
            "Epoch 62/70\n",
            "62/63 [============================>.] - ETA: 0s - loss: 0.0038 - accuracy: 0.9990\n",
            "Epoch 62: val_accuracy did not improve from 0.71023\n",
            "63/63 [==============================] - 1s 16ms/step - loss: 0.0037 - accuracy: 0.9990 - val_loss: 2.1935 - val_accuracy: 0.6727\n",
            "Epoch 63/70\n",
            "59/63 [===========================>..] - ETA: 0s - loss: 0.0119 - accuracy: 0.9963\n",
            "Epoch 63: val_accuracy did not improve from 0.71023\n",
            "63/63 [==============================] - 1s 12ms/step - loss: 0.0112 - accuracy: 0.9965 - val_loss: 2.2399 - val_accuracy: 0.6788\n",
            "Epoch 64/70\n",
            "63/63 [==============================] - ETA: 0s - loss: 0.0269 - accuracy: 0.9945\n",
            "Epoch 64: val_accuracy did not improve from 0.71023\n",
            "63/63 [==============================] - 1s 17ms/step - loss: 0.0269 - accuracy: 0.9945 - val_loss: 2.0155 - val_accuracy: 0.6859\n",
            "Epoch 65/70\n",
            "63/63 [==============================] - ETA: 0s - loss: 0.0018 - accuracy: 0.9995\n",
            "Epoch 65: val_accuracy did not improve from 0.71023\n",
            "63/63 [==============================] - 1s 23ms/step - loss: 0.0018 - accuracy: 0.9995 - val_loss: 2.2693 - val_accuracy: 0.6717\n",
            "Epoch 66/70\n",
            "60/63 [===========================>..] - ETA: 0s - loss: 0.0083 - accuracy: 0.9974\n",
            "Epoch 66: val_accuracy did not improve from 0.71023\n",
            "63/63 [==============================] - 1s 17ms/step - loss: 0.0080 - accuracy: 0.9975 - val_loss: 2.2776 - val_accuracy: 0.6748\n",
            "Epoch 67/70\n",
            "63/63 [==============================] - ETA: 0s - loss: 0.0023 - accuracy: 0.9995    \n",
            "Epoch 67: val_accuracy did not improve from 0.71023\n",
            "63/63 [==============================] - 1s 17ms/step - loss: 0.0023 - accuracy: 0.9995 - val_loss: 2.4336 - val_accuracy: 0.6859\n",
            "Epoch 68/70\n",
            "63/63 [==============================] - ETA: 0s - loss: 0.0109 - accuracy: 0.9960\n",
            "Epoch 68: val_accuracy did not improve from 0.71023\n",
            "63/63 [==============================] - 1s 18ms/step - loss: 0.0109 - accuracy: 0.9960 - val_loss: 2.4224 - val_accuracy: 0.6586\n",
            "Epoch 69/70\n",
            "63/63 [==============================] - ETA: 0s - loss: 0.0061 - accuracy: 0.9985\n",
            "Epoch 69: val_accuracy did not improve from 0.71023\n",
            "63/63 [==============================] - 1s 16ms/step - loss: 0.0061 - accuracy: 0.9985 - val_loss: 2.4552 - val_accuracy: 0.6758\n",
            "Epoch 70/70\n",
            "63/63 [==============================] - ETA: 0s - loss: 0.0024 - accuracy: 0.9995\n",
            "Epoch 70: val_accuracy did not improve from 0.71023\n",
            "63/63 [==============================] - 1s 13ms/step - loss: 0.0024 - accuracy: 0.9995 - val_loss: 2.3087 - val_accuracy: 0.6819\n"
          ]
        }
      ]
    },
    {
      "cell_type": "code",
      "source": [
        "print(model1.summary())\n",
        "pred1 = model1.predict(X_test)\n",
        "y_pred1 = np.argmax(pred1, axis=1)\n",
        "Y_test = np.argmax(y_test, axis=1)\n",
        "\n",
        "from sklearn.metrics import classification_report\n",
        "print(classification_report(Y_test, y_pred1))\n"
      ],
      "metadata": {
        "colab": {
          "base_uri": "https://localhost:8080/"
        },
        "id": "y8FBAuFLONU_",
        "outputId": "e5915946-fcf4-4caa-fd5c-1977f086dea3"
      },
      "execution_count": null,
      "outputs": [
        {
          "output_type": "stream",
          "name": "stdout",
          "text": [
            "Model: \"sequential\"\n",
            "_________________________________________________________________\n",
            " Layer (type)                Output Shape              Param #   \n",
            "=================================================================\n",
            " embedding (Embedding)       (None, 200, 128)          1280000   \n",
            "                                                                 \n",
            " lstm (LSTM)                 (None, 50)                35800     \n",
            "                                                                 \n",
            " dense (Dense)               (None, 3)                 153       \n",
            "                                                                 \n",
            "=================================================================\n",
            "Total params: 1,315,953\n",
            "Trainable params: 1,315,953\n",
            "Non-trainable params: 0\n",
            "_________________________________________________________________\n",
            "None\n",
            "31/31 [==============================] - 1s 6ms/step\n",
            "              precision    recall  f1-score   support\n",
            "\n",
            "           0       0.65      0.79      0.71       319\n",
            "           1       0.29      0.22      0.25       140\n",
            "           2       0.79      0.74      0.76       528\n",
            "\n",
            "    accuracy                           0.68       987\n",
            "   macro avg       0.58      0.58      0.58       987\n",
            "weighted avg       0.68      0.68      0.68       987\n",
            "\n"
          ]
        }
      ]
    },
    {
      "cell_type": "markdown",
      "metadata": {
        "id": "DXUj3scmMX4l"
      },
      "source": [
        "# **Model 2 : Bidirectional LSTM Layers**"
      ]
    },
    {
      "cell_type": "code",
      "source": [
        "#importing necessary libraries for medelling\n",
        "\n",
        "from keras.models import Sequential\n",
        "from keras import layers\n",
        "from keras.layers import Embedding\n",
        "from keras import regularizers\n",
        "from keras import backend as K\n",
        "from keras.callbacks import ModelCheckpoint\n",
        "import tensorflow as tf"
      ],
      "metadata": {
        "id": "TqC7Dspx49O5"
      },
      "execution_count": null,
      "outputs": []
    },
    {
      "cell_type": "markdown",
      "source": [
        "### Here, we are going to fit Bidirectional LSTM model to our dataset as it is capable of using bidirectional propagation mechanism for capturing both historical and future data, which helps us to get better results compared to LSTM as LSTM is unable to capture future data."
      ],
      "metadata": {
        "id": "Ht23-qYGM0_i"
      }
    },
    {
      "cell_type": "code",
      "execution_count": null,
      "metadata": {
        "colab": {
          "base_uri": "https://localhost:8080/"
        },
        "id": "Hn72rNG-Lgqm",
        "outputId": "393717ee-e74d-44ec-bce1-96743b8dcf91"
      },
      "outputs": [
        {
          "output_type": "stream",
          "name": "stderr",
          "text": [
            "WARNING:tensorflow:`period` argument is deprecated. Please use `save_freq` to specify the frequency in number of batches seen.\n"
          ]
        },
        {
          "output_type": "stream",
          "name": "stdout",
          "text": [
            "Epoch 1/70\n",
            "252/252 [==============================] - ETA: 0s - loss: 0.5855 - accuracy: 0.5290\n",
            "Epoch 1: val_accuracy improved from -inf to 0.66566, saving model to best_model.hdf5\n",
            "252/252 [==============================] - 31s 110ms/step - loss: 0.5855 - accuracy: 0.5290 - val_loss: 0.5164 - val_accuracy: 0.6657\n",
            "Epoch 2/70\n",
            "252/252 [==============================] - ETA: 0s - loss: 0.4737 - accuracy: 0.6771\n",
            "Epoch 2: val_accuracy improved from 0.66566 to 0.70707, saving model to best_model.hdf5\n",
            "252/252 [==============================] - 18s 70ms/step - loss: 0.4737 - accuracy: 0.6771 - val_loss: 0.4395 - val_accuracy: 0.7071\n",
            "Epoch 3/70\n",
            "252/252 [==============================] - ETA: 0s - loss: 0.4213 - accuracy: 0.7215\n",
            "Epoch 3: val_accuracy improved from 0.70707 to 0.73056, saving model to best_model.hdf5\n",
            "252/252 [==============================] - 15s 61ms/step - loss: 0.4213 - accuracy: 0.7215 - val_loss: 0.4151 - val_accuracy: 0.7306\n",
            "Epoch 4/70\n",
            "252/252 [==============================] - ETA: 0s - loss: 0.3937 - accuracy: 0.7412\n",
            "Epoch 4: val_accuracy improved from 0.73056 to 0.74141, saving model to best_model.hdf5\n",
            "252/252 [==============================] - 10s 40ms/step - loss: 0.3937 - accuracy: 0.7412 - val_loss: 0.3966 - val_accuracy: 0.7414\n",
            "Epoch 5/70\n",
            "252/252 [==============================] - ETA: 0s - loss: 0.3758 - accuracy: 0.7534\n",
            "Epoch 5: val_accuracy did not improve from 0.74141\n",
            "252/252 [==============================] - 7s 27ms/step - loss: 0.3758 - accuracy: 0.7534 - val_loss: 0.4062 - val_accuracy: 0.7407\n",
            "Epoch 6/70\n",
            "252/252 [==============================] - ETA: 0s - loss: 0.3596 - accuracy: 0.7607\n",
            "Epoch 6: val_accuracy improved from 0.74141 to 0.74646, saving model to best_model.hdf5\n",
            "252/252 [==============================] - 7s 28ms/step - loss: 0.3596 - accuracy: 0.7607 - val_loss: 0.3900 - val_accuracy: 0.7465\n",
            "Epoch 7/70\n",
            "252/252 [==============================] - ETA: 0s - loss: 0.3427 - accuracy: 0.7685\n",
            "Epoch 7: val_accuracy did not improve from 0.74646\n",
            "252/252 [==============================] - 6s 26ms/step - loss: 0.3427 - accuracy: 0.7685 - val_loss: 0.3917 - val_accuracy: 0.7407\n",
            "Epoch 8/70\n",
            "252/252 [==============================] - ETA: 0s - loss: 0.3273 - accuracy: 0.7772\n",
            "Epoch 8: val_accuracy improved from 0.74646 to 0.74823, saving model to best_model.hdf5\n",
            "252/252 [==============================] - 6s 24ms/step - loss: 0.3273 - accuracy: 0.7772 - val_loss: 0.4162 - val_accuracy: 0.7482\n",
            "Epoch 9/70\n",
            "252/252 [==============================] - ETA: 0s - loss: 0.3141 - accuracy: 0.7884\n",
            "Epoch 9: val_accuracy improved from 0.74823 to 0.74899, saving model to best_model.hdf5\n",
            "252/252 [==============================] - 6s 24ms/step - loss: 0.3141 - accuracy: 0.7884 - val_loss: 0.3947 - val_accuracy: 0.7490\n",
            "Epoch 10/70\n",
            "252/252 [==============================] - ETA: 0s - loss: 0.3030 - accuracy: 0.7994\n",
            "Epoch 10: val_accuracy did not improve from 0.74899\n",
            "252/252 [==============================] - 6s 25ms/step - loss: 0.3030 - accuracy: 0.7994 - val_loss: 0.3906 - val_accuracy: 0.7487\n",
            "Epoch 11/70\n",
            "252/252 [==============================] - ETA: 0s - loss: 0.2951 - accuracy: 0.8093\n",
            "Epoch 11: val_accuracy did not improve from 0.74899\n",
            "252/252 [==============================] - 6s 24ms/step - loss: 0.2951 - accuracy: 0.8093 - val_loss: 0.3955 - val_accuracy: 0.7404\n",
            "Epoch 12/70\n",
            "252/252 [==============================] - ETA: 0s - loss: 0.2843 - accuracy: 0.8142\n",
            "Epoch 12: val_accuracy did not improve from 0.74899\n",
            "252/252 [==============================] - 6s 22ms/step - loss: 0.2843 - accuracy: 0.8142 - val_loss: 0.4173 - val_accuracy: 0.7331\n",
            "Epoch 13/70\n",
            "250/252 [============================>.] - ETA: 0s - loss: 0.2758 - accuracy: 0.8220\n",
            "Epoch 13: val_accuracy did not improve from 0.74899\n",
            "252/252 [==============================] - 6s 24ms/step - loss: 0.2763 - accuracy: 0.8219 - val_loss: 0.4072 - val_accuracy: 0.7442\n",
            "Epoch 14/70\n",
            "252/252 [==============================] - ETA: 0s - loss: 0.2706 - accuracy: 0.8282\n",
            "Epoch 14: val_accuracy did not improve from 0.74899\n",
            "252/252 [==============================] - 7s 28ms/step - loss: 0.2706 - accuracy: 0.8282 - val_loss: 0.4504 - val_accuracy: 0.6957\n",
            "Epoch 15/70\n",
            "252/252 [==============================] - ETA: 0s - loss: 0.2656 - accuracy: 0.8337\n",
            "Epoch 15: val_accuracy did not improve from 0.74899\n",
            "252/252 [==============================] - 6s 23ms/step - loss: 0.2656 - accuracy: 0.8337 - val_loss: 0.4001 - val_accuracy: 0.7290\n",
            "Epoch 16/70\n",
            "252/252 [==============================] - ETA: 0s - loss: 0.2580 - accuracy: 0.8405\n",
            "Epoch 16: val_accuracy did not improve from 0.74899\n",
            "252/252 [==============================] - 6s 22ms/step - loss: 0.2580 - accuracy: 0.8405 - val_loss: 0.4480 - val_accuracy: 0.7295\n",
            "Epoch 17/70\n",
            "252/252 [==============================] - ETA: 0s - loss: 0.2493 - accuracy: 0.8434\n",
            "Epoch 17: val_accuracy did not improve from 0.74899\n",
            "252/252 [==============================] - 5s 21ms/step - loss: 0.2493 - accuracy: 0.8434 - val_loss: 0.4041 - val_accuracy: 0.7424\n",
            "Epoch 18/70\n",
            "252/252 [==============================] - ETA: 0s - loss: 0.2436 - accuracy: 0.8455\n",
            "Epoch 18: val_accuracy did not improve from 0.74899\n",
            "252/252 [==============================] - 6s 24ms/step - loss: 0.2436 - accuracy: 0.8455 - val_loss: 0.4109 - val_accuracy: 0.7273\n",
            "Epoch 19/70\n",
            "252/252 [==============================] - ETA: 0s - loss: 0.2371 - accuracy: 0.8515\n",
            "Epoch 19: val_accuracy did not improve from 0.74899\n",
            "252/252 [==============================] - 6s 22ms/step - loss: 0.2371 - accuracy: 0.8515 - val_loss: 0.4650 - val_accuracy: 0.7280\n",
            "Epoch 20/70\n",
            "251/252 [============================>.] - ETA: 0s - loss: 0.2321 - accuracy: 0.8602\n",
            "Epoch 20: val_accuracy improved from 0.74899 to 0.75303, saving model to best_model.hdf5\n",
            "252/252 [==============================] - 6s 23ms/step - loss: 0.2321 - accuracy: 0.8601 - val_loss: 0.4347 - val_accuracy: 0.7530\n",
            "Epoch 21/70\n",
            "252/252 [==============================] - ETA: 0s - loss: 0.2262 - accuracy: 0.8624\n",
            "Epoch 21: val_accuracy did not improve from 0.75303\n",
            "252/252 [==============================] - 5s 20ms/step - loss: 0.2262 - accuracy: 0.8624 - val_loss: 0.4352 - val_accuracy: 0.7290\n",
            "Epoch 22/70\n",
            "252/252 [==============================] - ETA: 0s - loss: 0.2195 - accuracy: 0.8658\n",
            "Epoch 22: val_accuracy did not improve from 0.75303\n",
            "252/252 [==============================] - 6s 25ms/step - loss: 0.2195 - accuracy: 0.8658 - val_loss: 0.5042 - val_accuracy: 0.7429\n",
            "Epoch 23/70\n",
            "252/252 [==============================] - ETA: 0s - loss: 0.2196 - accuracy: 0.8665\n",
            "Epoch 23: val_accuracy did not improve from 0.75303\n",
            "252/252 [==============================] - 5s 22ms/step - loss: 0.2196 - accuracy: 0.8665 - val_loss: 0.4495 - val_accuracy: 0.6869\n",
            "Epoch 24/70\n",
            "252/252 [==============================] - ETA: 0s - loss: 0.2138 - accuracy: 0.8706\n",
            "Epoch 24: val_accuracy did not improve from 0.75303\n",
            "252/252 [==============================] - 6s 22ms/step - loss: 0.2138 - accuracy: 0.8706 - val_loss: 0.4650 - val_accuracy: 0.7351\n",
            "Epoch 25/70\n",
            "252/252 [==============================] - ETA: 0s - loss: 0.2071 - accuracy: 0.8751\n",
            "Epoch 25: val_accuracy did not improve from 0.75303\n",
            "252/252 [==============================] - 5s 21ms/step - loss: 0.2071 - accuracy: 0.8751 - val_loss: 0.4447 - val_accuracy: 0.7313\n",
            "Epoch 26/70\n",
            "250/252 [============================>.] - ETA: 0s - loss: 0.2027 - accuracy: 0.8821\n",
            "Epoch 26: val_accuracy did not improve from 0.75303\n",
            "252/252 [==============================] - 5s 19ms/step - loss: 0.2026 - accuracy: 0.8821 - val_loss: 0.4437 - val_accuracy: 0.7273\n",
            "Epoch 27/70\n",
            "252/252 [==============================] - ETA: 0s - loss: 0.1962 - accuracy: 0.8837\n",
            "Epoch 27: val_accuracy did not improve from 0.75303\n",
            "252/252 [==============================] - 6s 24ms/step - loss: 0.1962 - accuracy: 0.8837 - val_loss: 0.4568 - val_accuracy: 0.7232\n",
            "Epoch 28/70\n",
            "252/252 [==============================] - ETA: 0s - loss: 0.1903 - accuracy: 0.8889\n",
            "Epoch 28: val_accuracy did not improve from 0.75303\n",
            "252/252 [==============================] - 5s 20ms/step - loss: 0.1903 - accuracy: 0.8889 - val_loss: 0.4630 - val_accuracy: 0.7278\n",
            "Epoch 29/70\n",
            "252/252 [==============================] - ETA: 0s - loss: 0.1933 - accuracy: 0.8822\n",
            "Epoch 29: val_accuracy did not improve from 0.75303\n",
            "252/252 [==============================] - 7s 28ms/step - loss: 0.1933 - accuracy: 0.8822 - val_loss: 0.4679 - val_accuracy: 0.7237\n",
            "Epoch 30/70\n",
            "252/252 [==============================] - ETA: 0s - loss: 0.1884 - accuracy: 0.8882\n",
            "Epoch 30: val_accuracy did not improve from 0.75303\n",
            "252/252 [==============================] - 5s 19ms/step - loss: 0.1884 - accuracy: 0.8882 - val_loss: 0.4824 - val_accuracy: 0.7162\n",
            "Epoch 31/70\n",
            "252/252 [==============================] - ETA: 0s - loss: 0.1821 - accuracy: 0.8944\n",
            "Epoch 31: val_accuracy did not improve from 0.75303\n",
            "252/252 [==============================] - 5s 22ms/step - loss: 0.1821 - accuracy: 0.8944 - val_loss: 0.4942 - val_accuracy: 0.7379\n",
            "Epoch 32/70\n",
            "249/252 [============================>.] - ETA: 0s - loss: 0.1773 - accuracy: 0.8957\n",
            "Epoch 32: val_accuracy did not improve from 0.75303\n",
            "252/252 [==============================] - 5s 19ms/step - loss: 0.1776 - accuracy: 0.8954 - val_loss: 0.4992 - val_accuracy: 0.7460\n",
            "Epoch 33/70\n",
            "252/252 [==============================] - ETA: 0s - loss: 0.1762 - accuracy: 0.8978\n",
            "Epoch 33: val_accuracy did not improve from 0.75303\n",
            "252/252 [==============================] - 5s 20ms/step - loss: 0.1762 - accuracy: 0.8978 - val_loss: 0.6007 - val_accuracy: 0.7270\n",
            "Epoch 34/70\n",
            "252/252 [==============================] - ETA: 0s - loss: 0.1753 - accuracy: 0.8976\n",
            "Epoch 34: val_accuracy did not improve from 0.75303\n",
            "252/252 [==============================] - 6s 22ms/step - loss: 0.1753 - accuracy: 0.8976 - val_loss: 0.5048 - val_accuracy: 0.7321\n",
            "Epoch 35/70\n",
            "252/252 [==============================] - ETA: 0s - loss: 0.1691 - accuracy: 0.9027\n",
            "Epoch 35: val_accuracy did not improve from 0.75303\n",
            "252/252 [==============================] - 5s 20ms/step - loss: 0.1691 - accuracy: 0.9027 - val_loss: 0.5283 - val_accuracy: 0.7472\n",
            "Epoch 36/70\n",
            "252/252 [==============================] - ETA: 0s - loss: 0.1639 - accuracy: 0.9035\n",
            "Epoch 36: val_accuracy did not improve from 0.75303\n",
            "252/252 [==============================] - 6s 23ms/step - loss: 0.1639 - accuracy: 0.9035 - val_loss: 0.5416 - val_accuracy: 0.7422\n",
            "Epoch 37/70\n",
            "252/252 [==============================] - ETA: 0s - loss: 0.1596 - accuracy: 0.9097\n",
            "Epoch 37: val_accuracy did not improve from 0.75303\n",
            "252/252 [==============================] - 5s 20ms/step - loss: 0.1596 - accuracy: 0.9097 - val_loss: 0.5358 - val_accuracy: 0.7354\n",
            "Epoch 38/70\n",
            "250/252 [============================>.] - ETA: 0s - loss: 0.1666 - accuracy: 0.9053\n",
            "Epoch 38: val_accuracy did not improve from 0.75303\n",
            "252/252 [==============================] - 5s 21ms/step - loss: 0.1665 - accuracy: 0.9053 - val_loss: 0.5468 - val_accuracy: 0.7328\n",
            "Epoch 39/70\n",
            "252/252 [==============================] - ETA: 0s - loss: 0.1562 - accuracy: 0.9127\n",
            "Epoch 39: val_accuracy did not improve from 0.75303\n",
            "252/252 [==============================] - 6s 23ms/step - loss: 0.1562 - accuracy: 0.9127 - val_loss: 0.5324 - val_accuracy: 0.7093\n",
            "Epoch 40/70\n",
            "252/252 [==============================] - ETA: 0s - loss: 0.1525 - accuracy: 0.9119\n",
            "Epoch 40: val_accuracy did not improve from 0.75303\n",
            "252/252 [==============================] - 5s 19ms/step - loss: 0.1525 - accuracy: 0.9119 - val_loss: 0.5359 - val_accuracy: 0.7477\n",
            "Epoch 41/70\n",
            "252/252 [==============================] - ETA: 0s - loss: 0.1497 - accuracy: 0.9106\n",
            "Epoch 41: val_accuracy did not improve from 0.75303\n",
            "252/252 [==============================] - 6s 22ms/step - loss: 0.1497 - accuracy: 0.9106 - val_loss: 0.5986 - val_accuracy: 0.7247\n",
            "Epoch 42/70\n",
            "252/252 [==============================] - ETA: 0s - loss: 0.1443 - accuracy: 0.9174\n",
            "Epoch 42: val_accuracy did not improve from 0.75303\n",
            "252/252 [==============================] - 5s 21ms/step - loss: 0.1443 - accuracy: 0.9174 - val_loss: 0.5532 - val_accuracy: 0.7348\n",
            "Epoch 43/70\n",
            "252/252 [==============================] - ETA: 0s - loss: 0.1398 - accuracy: 0.9194\n",
            "Epoch 43: val_accuracy did not improve from 0.75303\n",
            "252/252 [==============================] - 6s 23ms/step - loss: 0.1398 - accuracy: 0.9194 - val_loss: 0.5308 - val_accuracy: 0.7389\n",
            "Epoch 44/70\n",
            "252/252 [==============================] - ETA: 0s - loss: 0.1433 - accuracy: 0.9192\n",
            "Epoch 44: val_accuracy did not improve from 0.75303\n",
            "252/252 [==============================] - 5s 21ms/step - loss: 0.1433 - accuracy: 0.9192 - val_loss: 0.5724 - val_accuracy: 0.7154\n",
            "Epoch 45/70\n",
            "252/252 [==============================] - ETA: 0s - loss: 0.1418 - accuracy: 0.9189\n",
            "Epoch 45: val_accuracy did not improve from 0.75303\n",
            "252/252 [==============================] - 7s 26ms/step - loss: 0.1418 - accuracy: 0.9189 - val_loss: 0.5766 - val_accuracy: 0.7278\n",
            "Epoch 46/70\n",
            "252/252 [==============================] - ETA: 0s - loss: 0.1358 - accuracy: 0.9224\n",
            "Epoch 46: val_accuracy did not improve from 0.75303\n",
            "252/252 [==============================] - 5s 20ms/step - loss: 0.1358 - accuracy: 0.9224 - val_loss: 0.6034 - val_accuracy: 0.7333\n",
            "Epoch 47/70\n",
            "252/252 [==============================] - ETA: 0s - loss: 0.1324 - accuracy: 0.9274\n",
            "Epoch 47: val_accuracy did not improve from 0.75303\n",
            "252/252 [==============================] - 5s 19ms/step - loss: 0.1324 - accuracy: 0.9274 - val_loss: 0.5798 - val_accuracy: 0.7422\n",
            "Epoch 48/70\n",
            "252/252 [==============================] - ETA: 0s - loss: 0.1353 - accuracy: 0.9299\n",
            "Epoch 48: val_accuracy did not improve from 0.75303\n",
            "252/252 [==============================] - 6s 25ms/step - loss: 0.1353 - accuracy: 0.9299 - val_loss: 0.5459 - val_accuracy: 0.7301\n",
            "Epoch 49/70\n",
            "252/252 [==============================] - ETA: 0s - loss: 0.1308 - accuracy: 0.9270\n",
            "Epoch 49: val_accuracy did not improve from 0.75303\n",
            "252/252 [==============================] - 5s 19ms/step - loss: 0.1308 - accuracy: 0.9270 - val_loss: 0.5608 - val_accuracy: 0.7333\n",
            "Epoch 50/70\n",
            "252/252 [==============================] - ETA: 0s - loss: 0.1239 - accuracy: 0.9340\n",
            "Epoch 50: val_accuracy did not improve from 0.75303\n",
            "252/252 [==============================] - 6s 23ms/step - loss: 0.1239 - accuracy: 0.9340 - val_loss: 0.5731 - val_accuracy: 0.7306\n",
            "Epoch 51/70\n",
            "252/252 [==============================] - ETA: 0s - loss: 0.1281 - accuracy: 0.9275\n",
            "Epoch 51: val_accuracy did not improve from 0.75303\n",
            "252/252 [==============================] - 5s 20ms/step - loss: 0.1281 - accuracy: 0.9275 - val_loss: 0.5678 - val_accuracy: 0.7270\n",
            "Epoch 52/70\n",
            "252/252 [==============================] - ETA: 0s - loss: 0.1207 - accuracy: 0.9337\n",
            "Epoch 52: val_accuracy did not improve from 0.75303\n",
            "252/252 [==============================] - 6s 22ms/step - loss: 0.1207 - accuracy: 0.9337 - val_loss: 0.6202 - val_accuracy: 0.7316\n",
            "Epoch 53/70\n",
            "252/252 [==============================] - ETA: 0s - loss: 0.1225 - accuracy: 0.9325\n",
            "Epoch 53: val_accuracy did not improve from 0.75303\n",
            "252/252 [==============================] - 8s 32ms/step - loss: 0.1225 - accuracy: 0.9325 - val_loss: 0.6331 - val_accuracy: 0.7192\n",
            "Epoch 54/70\n",
            "252/252 [==============================] - ETA: 0s - loss: 0.1196 - accuracy: 0.9328\n",
            "Epoch 54: val_accuracy did not improve from 0.75303\n",
            "252/252 [==============================] - 8s 31ms/step - loss: 0.1196 - accuracy: 0.9328 - val_loss: 0.5593 - val_accuracy: 0.7091\n",
            "Epoch 55/70\n",
            "252/252 [==============================] - ETA: 0s - loss: 0.1151 - accuracy: 0.9363\n",
            "Epoch 55: val_accuracy did not improve from 0.75303\n",
            "252/252 [==============================] - 7s 28ms/step - loss: 0.1151 - accuracy: 0.9363 - val_loss: 0.5713 - val_accuracy: 0.7371\n",
            "Epoch 56/70\n",
            "252/252 [==============================] - ETA: 0s - loss: 0.1152 - accuracy: 0.9347\n",
            "Epoch 56: val_accuracy did not improve from 0.75303\n",
            "252/252 [==============================] - 7s 29ms/step - loss: 0.1152 - accuracy: 0.9347 - val_loss: 0.6167 - val_accuracy: 0.7328\n",
            "Epoch 57/70\n",
            "250/252 [============================>.] - ETA: 0s - loss: 0.1107 - accuracy: 0.9379\n",
            "Epoch 57: val_accuracy did not improve from 0.75303\n",
            "252/252 [==============================] - 8s 33ms/step - loss: 0.1105 - accuracy: 0.9378 - val_loss: 0.6172 - val_accuracy: 0.7369\n",
            "Epoch 58/70\n",
            "252/252 [==============================] - ETA: 0s - loss: 0.1084 - accuracy: 0.9422\n",
            "Epoch 58: val_accuracy did not improve from 0.75303\n",
            "252/252 [==============================] - 8s 33ms/step - loss: 0.1084 - accuracy: 0.9422 - val_loss: 0.6439 - val_accuracy: 0.7326\n",
            "Epoch 59/70\n",
            "250/252 [============================>.] - ETA: 0s - loss: 0.1094 - accuracy: 0.9381\n",
            "Epoch 59: val_accuracy did not improve from 0.75303\n",
            "252/252 [==============================] - 6s 22ms/step - loss: 0.1094 - accuracy: 0.9382 - val_loss: 0.5917 - val_accuracy: 0.7376\n",
            "Epoch 60/70\n",
            "252/252 [==============================] - ETA: 0s - loss: 0.1076 - accuracy: 0.9419\n",
            "Epoch 60: val_accuracy did not improve from 0.75303\n",
            "252/252 [==============================] - 5s 20ms/step - loss: 0.1076 - accuracy: 0.9419 - val_loss: 0.6214 - val_accuracy: 0.7419\n",
            "Epoch 61/70\n",
            "252/252 [==============================] - ETA: 0s - loss: 0.1052 - accuracy: 0.9435\n",
            "Epoch 61: val_accuracy did not improve from 0.75303\n",
            "252/252 [==============================] - 7s 30ms/step - loss: 0.1052 - accuracy: 0.9435 - val_loss: 0.6775 - val_accuracy: 0.7295\n",
            "Epoch 62/70\n",
            "252/252 [==============================] - ETA: 0s - loss: 0.1056 - accuracy: 0.9387\n",
            "Epoch 62: val_accuracy did not improve from 0.75303\n",
            "252/252 [==============================] - 7s 27ms/step - loss: 0.1056 - accuracy: 0.9387 - val_loss: 0.6813 - val_accuracy: 0.7020\n",
            "Epoch 63/70\n",
            "251/252 [============================>.] - ETA: 0s - loss: 0.1005 - accuracy: 0.9457\n",
            "Epoch 63: val_accuracy did not improve from 0.75303\n",
            "252/252 [==============================] - 8s 32ms/step - loss: 0.1005 - accuracy: 0.9455 - val_loss: 0.7305 - val_accuracy: 0.6975\n",
            "Epoch 64/70\n",
            "252/252 [==============================] - ETA: 0s - loss: 0.1017 - accuracy: 0.9439\n",
            "Epoch 64: val_accuracy did not improve from 0.75303\n",
            "252/252 [==============================] - 7s 27ms/step - loss: 0.1017 - accuracy: 0.9439 - val_loss: 0.6365 - val_accuracy: 0.7187\n",
            "Epoch 65/70\n",
            "252/252 [==============================] - ETA: 0s - loss: 0.0992 - accuracy: 0.9449\n",
            "Epoch 65: val_accuracy did not improve from 0.75303\n",
            "252/252 [==============================] - 8s 33ms/step - loss: 0.0992 - accuracy: 0.9449 - val_loss: 0.6920 - val_accuracy: 0.7159\n",
            "Epoch 66/70\n",
            "252/252 [==============================] - ETA: 0s - loss: 0.0969 - accuracy: 0.9479\n",
            "Epoch 66: val_accuracy did not improve from 0.75303\n",
            "252/252 [==============================] - 9s 34ms/step - loss: 0.0969 - accuracy: 0.9479 - val_loss: 0.6352 - val_accuracy: 0.7247\n",
            "Epoch 67/70\n",
            "252/252 [==============================] - ETA: 0s - loss: 0.0997 - accuracy: 0.9458\n",
            "Epoch 67: val_accuracy did not improve from 0.75303\n",
            "252/252 [==============================] - 7s 28ms/step - loss: 0.0997 - accuracy: 0.9458 - val_loss: 0.6763 - val_accuracy: 0.7124\n",
            "Epoch 68/70\n",
            "252/252 [==============================] - ETA: 0s - loss: 0.0974 - accuracy: 0.9479\n",
            "Epoch 68: val_accuracy did not improve from 0.75303\n",
            "252/252 [==============================] - 7s 29ms/step - loss: 0.0974 - accuracy: 0.9479 - val_loss: 0.6265 - val_accuracy: 0.7255\n",
            "Epoch 69/70\n",
            "252/252 [==============================] - ETA: 0s - loss: 0.0955 - accuracy: 0.9463\n",
            "Epoch 69: val_accuracy did not improve from 0.75303\n",
            "252/252 [==============================] - 7s 27ms/step - loss: 0.0955 - accuracy: 0.9463 - val_loss: 0.6408 - val_accuracy: 0.7386\n",
            "Epoch 70/70\n",
            "252/252 [==============================] - ETA: 0s - loss: 0.0946 - accuracy: 0.9485\n",
            "Epoch 70: val_accuracy did not improve from 0.75303\n",
            "252/252 [==============================] - 10s 39ms/step - loss: 0.0946 - accuracy: 0.9485 - val_loss: 0.6797 - val_accuracy: 0.7275\n"
          ]
        }
      ],
      "source": [
        "model = Sequential()\n",
        "model.add(layers.Embedding(max_words, 40, input_length=max_len))\n",
        "model.add(layers.Bidirectional(layers.LSTM(20,dropout=0.6)))\n",
        "model.add(layers.Dense(3,activation='softmax'))\n",
        "model.compile(optimizer='rmsprop',loss='binary_crossentropy', metrics=['accuracy'])\n",
        "checkpoint = ModelCheckpoint(\"best_model.hdf5\", monitor='val_accuracy', verbose=1,save_best_only=True, mode='auto', period=1,save_weights_only=False)\n",
        "history = model.fit(X_train, y_train, epochs=70,validation_data=(X_test, y_test),callbacks=[checkpoint])"
      ]
    },
    {
      "cell_type": "code",
      "execution_count": null,
      "metadata": {
        "colab": {
          "base_uri": "https://localhost:8080/"
        },
        "id": "P_UanMedR7G5",
        "outputId": "33bf1186-2b2e-43d3-8058-f64700b98e8e"
      },
      "outputs": [
        {
          "output_type": "stream",
          "name": "stdout",
          "text": [
            "Model: \"sequential_3\"\n",
            "_________________________________________________________________\n",
            " Layer (type)                Output Shape              Param #   \n",
            "=================================================================\n",
            " embedding_3 (Embedding)     (None, 200, 40)           400000    \n",
            "                                                                 \n",
            " bidirectional_3 (Bidirectio  (None, 40)               9760      \n",
            " nal)                                                            \n",
            "                                                                 \n",
            " dense_3 (Dense)             (None, 3)                 123       \n",
            "                                                                 \n",
            "=================================================================\n",
            "Total params: 409,883\n",
            "Trainable params: 409,883\n",
            "Non-trainable params: 0\n",
            "_________________________________________________________________\n",
            "None\n",
            "124/124 [==============================] - 2s 9ms/step\n",
            "              precision    recall  f1-score   support\n",
            "\n",
            "           0       0.76      0.75      0.76      1358\n",
            "           1       0.36      0.24      0.29       634\n",
            "           2       0.78      0.87      0.82      1968\n",
            "\n",
            "    accuracy                           0.73      3960\n",
            "   macro avg       0.63      0.62      0.62      3960\n",
            "weighted avg       0.71      0.73      0.71      3960\n",
            "\n"
          ]
        }
      ],
      "source": [
        "print(model.summary())\n",
        "pred = model.predict(X_test)\n",
        "y_pred = np.argmax(pred, axis=1)\n",
        "Y_test = np.argmax(y_test, axis=1)\n",
        "\n",
        "from sklearn.metrics import classification_report\n",
        "print(classification_report(Y_test, y_pred))"
      ]
    },
    {
      "cell_type": "markdown",
      "source": [
        "### Here, we achieved an accuracy of 73% after fitting the Bidirectional LSTM model to our dataset. But, as our dataset is unbalanced, so we are mainly going to focus on the weighted averages of precision, recall and f1-score, which are 71%, 73% and 71% respectively. Hence, we can conclude that our model is performing quite well."
      ],
      "metadata": {
        "id": "F2WICVJqPc0B"
      }
    },
    {
      "cell_type": "markdown",
      "source": [
        "##Curves representing training and Validation loss and training and Validation accuracy for the LSTM model"
      ],
      "metadata": {
        "id": "HVUZ026pK9p4"
      }
    },
    {
      "cell_type": "code",
      "execution_count": null,
      "metadata": {
        "colab": {
          "base_uri": "https://localhost:8080/",
          "height": 585
        },
        "id": "tREpxo9o1L8a",
        "outputId": "67e3f241-f63c-4410-ccfa-ad31df5fdae4"
      },
      "outputs": [
        {
          "output_type": "display_data",
          "data": {
            "text/plain": [
              "<Figure size 1600x800 with 2 Axes>"
            ],
            "image/png": "[encoded data removed]"
          },
          "metadata": {}
        }
      ],
      "source": [
        "import matplotlib.pyplot as plt\n",
        "fig, ax = plt.subplots(1,2, figsize=(16,8))\n",
        "ax[0].plot(history.history['loss'], color='b', label=\"Training loss\")\n",
        "ax[0].plot(history.history['val_loss'], color='r', label=\"validation loss\",axes =ax[0])\n",
        "legend = ax[0].legend(loc='best', shadow=True)\n",
        "\n",
        "ax[1].plot(history.history['accuracy'], color='b', label=\"Training accuracy\")\n",
        "ax[1].plot(history.history['val_accuracy'], color='r',label=\"Validation accuracy\")\n",
        "legend = ax[1].legend(loc='best', shadow=True)"
      ]
    },
    {
      "cell_type": "markdown",
      "source": [
        "### Here, we can observe that the train loss is decreasing and the train accuracy is increasing with an increase in the number of epoches, which is certainly favourable. However, at the same time, we can also observe that the validation accuracy is fluctuating, but mainly remaining constant and validation loss is increasing, instead of decreasing with an increase in the number of epoches. This may explain the model's inability to achieve even better performance."
      ],
      "metadata": {
        "id": "ii6ukwHCGw8P"
      }
    },
    {
      "cell_type": "code",
      "execution_count": null,
      "metadata": {
        "id": "7D6_NiSazZcu",
        "colab": {
          "base_uri": "https://localhost:8080/",
          "height": 585
        },
        "outputId": "505773f9-86c0-4092-dc49-a1aae23b16d9"
      },
      "outputs": [
        {
          "output_type": "display_data",
          "data": {
            "text/plain": [
              "<Figure size 1600x800 with 2 Axes>"
            ],
            "image/png": "[encoded data removed]"
          },
          "metadata": {}
        }
      ],
      "source": [
        "#LSTM\n",
        "\n",
        "import matplotlib.pyplot as plt\n",
        "fig, ax = plt.subplots(1,2, figsize=(16,8))\n",
        "ax[0].plot(history1.history['loss'], color='b', label=\"Training loss\")\n",
        "ax[0].plot(history1.history['val_loss'], color='r', label=\"validation loss\",axes =ax[0])\n",
        "legend = ax[0].legend(loc='best', shadow=True)\n",
        "\n",
        "ax[1].plot(history1.history['accuracy'], color='b', label=\"Training accuracy\")\n",
        "ax[1].plot(history1.history['val_accuracy'], color='r',label=\"Validation accuracy\")\n",
        "legend = ax[1].legend(loc='best', shadow=True)"
      ]
    },
    {
      "cell_type": "code",
      "source": [],
      "metadata": {
        "id": "yXho4Hx7PAN2"
      },
      "execution_count": null,
      "outputs": []
    }
  ],
  "metadata": {
    "accelerator": "GPU",
    "colab": {
      "provenance": []
    },
    "gpuClass": "standard",
    "kernelspec": {
      "display_name": "Python 3",
      "name": "python3"
    },
    "language_info": {
      "name": "python"
    }
  },
  "nbformat": 4,
  "nbformat_minor": 0
}